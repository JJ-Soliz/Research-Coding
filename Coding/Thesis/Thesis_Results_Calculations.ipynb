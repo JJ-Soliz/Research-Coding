{
 "cells": [
  {
   "cell_type": "markdown",
   "metadata": {},
   "source": [
    "This notebook contains all your results of the research done for your thesis on Oxygenic Photosynthesis for TRAPPIST-1 e."
   ]
  },
  {
   "cell_type": "code",
   "execution_count": 1,
   "metadata": {},
   "outputs": [],
   "source": [
    "import numpy as np\n",
    "import pandas as pd\n",
    "from scipy.constants import h,k,c,Wien,sigma, Avogadro\n",
    "from astroquery.vizier import Vizier\n",
    "\n",
    "%matplotlib inline\n",
    "import matplotlib.pyplot as plt\n",
    "\n",
    "# change plotting defaults\n",
    "plt.rc('axes', labelsize=18)\n",
    "plt.rc('axes', labelweight='bold')\n",
    "plt.rc('axes', titlesize=16)\n",
    "plt.rc('axes', titleweight='bold')\n",
    "plt.rc('font', family='sans-serif')\n",
    "plt.rcParams['errorbar.capsize'] = 3\n",
    "opts = {'mec':'k', 'mew': 0.5, 'lw': 1}\n",
    "plt.rcParams['figure.figsize'] = (14, 10)"
   ]
  },
  {
   "cell_type": "code",
   "execution_count": 2,
   "metadata": {},
   "outputs": [
    {
     "data": {
      "text/plain": [
       "6.02214076e+23"
      ]
     },
     "execution_count": 2,
     "metadata": {},
     "output_type": "execute_result"
    }
   ],
   "source": [
    "Avogadro #Avogadro's constant in mol-1"
   ]
  },
  {
   "cell_type": "markdown",
   "metadata": {},
   "source": [
    "**Integral Codes**"
   ]
  },
  {
   "cell_type": "code",
   "execution_count": 3,
   "metadata": {},
   "outputs": [],
   "source": [
    "def trap_rule_data_defintgral(x, f, a, b): #for definite integral from (a,b) in trapezoidal rule\n",
    "    #check bounday limits, make an if statement to check endpoints\n",
    "    difference_array_a = np.absolute(x-a) #take a difference between your x point to the given begin endpoint\n",
    "    index_a = difference_array_a.argmin() #search array for the lowest difference and indexes it\n",
    "    #the lowest difference implies the closest (or exact) point to your given begin endpoint\n",
    "    difference_array_b = np.absolute(x-b) #repeats steps for last endpoint\n",
    "    index_b = difference_array_b.argmin()\n",
    "    # initial variable stores the sum untile iterated in array later\n",
    "    sum=0\n",
    "    # iterate through the array and add each element to the sum variable\n",
    "    for i in range(index_a, index_b):\n",
    "        delta_x = x[i+1] - x[i] #for ever index there is a delta x in value\n",
    "        sum = sum + ((f[i+1]+f[i])/2)*(delta_x) #same as f[i-1] + f[i] \n",
    "    return sum"
   ]
  },
  {
   "cell_type": "code",
   "execution_count": 4,
   "metadata": {},
   "outputs": [],
   "source": [
    "#integral from a to b points in Trapezoid Rule for photons\n",
    "def trap_rule_data_defintgral_photons(x, f, a, b, h, c): #for definite integral from (a,b) \n",
    "    # photon energy of E = hc/lambda\n",
    "    #NOTE your input for x is in micron and f is per micron. Convert to meters\n",
    "    e = (h*c)/(x*1e-6) #x converting microns to meters, e is photon energy \n",
    "    #check bounday limits, make an if statement to check endpoints\n",
    "    #when finding the index, the units have to be the same with the x array units\n",
    "    difference_array_a = np.absolute(x-a) #take a difference between your x point to the given begin endpoint\n",
    "    index_a = difference_array_a.argmin() #search array for the lowest difference and indexes it\n",
    "    #the lowest difference implies the closest (or exact) point to your given begin endpoint\n",
    "    difference_array_b = np.absolute(x-b) #repeats steps for last endpoint\n",
    "    index_b = difference_array_b.argmin()\n",
    "    #converted to photons\n",
    "    y = (f/1e-6)/e #converting per micron to per meter then divide by photon energy\n",
    "    x_m = (x*1e-6) #converting micron to meter\n",
    "    # initial variable stores the sum untile iterated in array later\n",
    "    sum=0\n",
    "    # iterate through the array and add each element to the sum variable\n",
    "    for i in range(index_a, index_b):\n",
    "        delta_x = x_m[i+1] - x_m[i] #for ever index there is a delta x in value\n",
    "        sum = sum + ((y[i+1] + y[i])/2)*(delta_x) #sum = sum + ((f[i+1]+f[i])/2)*(delta_x) #same as f[i-1] + f[i] \n",
    "    return sum"
   ]
  },
  {
   "cell_type": "code",
   "execution_count": 5,
   "metadata": {},
   "outputs": [],
   "source": [
    "au = 149597870700 #m\n",
    "R_sol = 6.957e8\n",
    "R_TRAP1 = 0.1192*R_sol"
   ]
  },
  {
   "cell_type": "markdown",
   "metadata": {},
   "source": [
    "## Data"
   ]
  },
  {
   "cell_type": "markdown",
   "metadata": {},
   "source": [
    "2000 ASTM data of the Sol-Earth insolation"
   ]
  },
  {
   "cell_type": "code",
   "execution_count": 6,
   "metadata": {},
   "outputs": [
    {
     "data": {
      "text/html": [
       "<div>\n",
       "<style scoped>\n",
       "    .dataframe tbody tr th:only-of-type {\n",
       "        vertical-align: middle;\n",
       "    }\n",
       "\n",
       "    .dataframe tbody tr th {\n",
       "        vertical-align: top;\n",
       "    }\n",
       "\n",
       "    .dataframe thead th {\n",
       "        text-align: right;\n",
       "    }\n",
       "</style>\n",
       "<table border=\"1\" class=\"dataframe\">\n",
       "  <thead>\n",
       "    <tr style=\"text-align: right;\">\n",
       "      <th></th>\n",
       "      <th>Wavelength</th>\n",
       "      <th>Wavenumber</th>\n",
       "      <th>Solar Flux incident at top of atmosphere</th>\n",
       "      <th>Planetary Flux</th>\n",
       "      <th>Albedo</th>\n",
       "    </tr>\n",
       "  </thead>\n",
       "  <tbody>\n",
       "    <tr>\n",
       "      <th>0</th>\n",
       "      <td>0.100180</td>\n",
       "      <td>99820.320</td>\n",
       "      <td>0.807223</td>\n",
       "      <td>0.000000</td>\n",
       "      <td>0.000000</td>\n",
       "    </tr>\n",
       "    <tr>\n",
       "      <th>1</th>\n",
       "      <td>0.100181</td>\n",
       "      <td>99819.330</td>\n",
       "      <td>0.807203</td>\n",
       "      <td>0.000000</td>\n",
       "      <td>0.000000</td>\n",
       "    </tr>\n",
       "    <tr>\n",
       "      <th>2</th>\n",
       "      <td>0.100182</td>\n",
       "      <td>99818.330</td>\n",
       "      <td>0.807183</td>\n",
       "      <td>0.000000</td>\n",
       "      <td>0.000000</td>\n",
       "    </tr>\n",
       "    <tr>\n",
       "      <th>3</th>\n",
       "      <td>0.100183</td>\n",
       "      <td>99817.330</td>\n",
       "      <td>0.807163</td>\n",
       "      <td>0.000000</td>\n",
       "      <td>0.000000</td>\n",
       "    </tr>\n",
       "    <tr>\n",
       "      <th>4</th>\n",
       "      <td>0.100184</td>\n",
       "      <td>99816.340</td>\n",
       "      <td>0.807143</td>\n",
       "      <td>0.000000</td>\n",
       "      <td>0.000000</td>\n",
       "    </tr>\n",
       "    <tr>\n",
       "      <th>...</th>\n",
       "      <td>...</td>\n",
       "      <td>...</td>\n",
       "      <td>...</td>\n",
       "      <td>...</td>\n",
       "      <td>...</td>\n",
       "    </tr>\n",
       "    <tr>\n",
       "      <th>97816</th>\n",
       "      <td>4.990020</td>\n",
       "      <td>2004.000</td>\n",
       "      <td>3.575930</td>\n",
       "      <td>3.115866</td>\n",
       "      <td>0.871344</td>\n",
       "    </tr>\n",
       "    <tr>\n",
       "      <th>97817</th>\n",
       "      <td>4.992510</td>\n",
       "      <td>2003.000</td>\n",
       "      <td>3.573370</td>\n",
       "      <td>3.124458</td>\n",
       "      <td>0.874373</td>\n",
       "    </tr>\n",
       "    <tr>\n",
       "      <th>97818</th>\n",
       "      <td>4.995010</td>\n",
       "      <td>2001.998</td>\n",
       "      <td>3.594160</td>\n",
       "      <td>3.155102</td>\n",
       "      <td>0.877841</td>\n",
       "    </tr>\n",
       "    <tr>\n",
       "      <th>97819</th>\n",
       "      <td>4.997500</td>\n",
       "      <td>2001.001</td>\n",
       "      <td>3.589550</td>\n",
       "      <td>3.169270</td>\n",
       "      <td>0.882916</td>\n",
       "    </tr>\n",
       "    <tr>\n",
       "      <th>97820</th>\n",
       "      <td>5.000000</td>\n",
       "      <td>2000.000</td>\n",
       "      <td>3.560880</td>\n",
       "      <td>3.164086</td>\n",
       "      <td>0.888569</td>\n",
       "    </tr>\n",
       "  </tbody>\n",
       "</table>\n",
       "<p>97821 rows × 5 columns</p>\n",
       "</div>"
      ],
      "text/plain": [
       "       Wavelength  Wavenumber  Solar Flux incident at top of atmosphere  \\\n",
       "0        0.100180   99820.320                                  0.807223   \n",
       "1        0.100181   99819.330                                  0.807203   \n",
       "2        0.100182   99818.330                                  0.807183   \n",
       "3        0.100183   99817.330                                  0.807163   \n",
       "4        0.100184   99816.340                                  0.807143   \n",
       "...           ...         ...                                       ...   \n",
       "97816    4.990020    2004.000                                  3.575930   \n",
       "97817    4.992510    2003.000                                  3.573370   \n",
       "97818    4.995010    2001.998                                  3.594160   \n",
       "97819    4.997500    2001.001                                  3.589550   \n",
       "97820    5.000000    2000.000                                  3.560880   \n",
       "\n",
       "       Planetary Flux    Albedo  \n",
       "0            0.000000  0.000000  \n",
       "1            0.000000  0.000000  \n",
       "2            0.000000  0.000000  \n",
       "3            0.000000  0.000000  \n",
       "4            0.000000  0.000000  \n",
       "...               ...       ...  \n",
       "97816        3.115866  0.871344  \n",
       "97817        3.124458  0.874373  \n",
       "97818        3.155102  0.877841  \n",
       "97819        3.169270  0.882916  \n",
       "97820        3.164086  0.888569  \n",
       "\n",
       "[97821 rows x 5 columns]"
      ]
     },
     "execution_count": 6,
     "metadata": {},
     "output_type": "execute_result"
    }
   ],
   "source": [
    "cols=['Wavelength', 'Wavenumber', 'Solar Flux incident at top of atmosphere', 'Planetary Flux', 'Albedo']\n",
    "sol_data = pd.read_csv('data/earth_quadrature_radiance_refl.flx', sep ='\t', header=7, names=cols)\n",
    "sol_data #wavelength units in um (microns), flux at TOA units in w/m2/um"
   ]
  },
  {
   "cell_type": "markdown",
   "metadata": {},
   "source": [
    "For the data on TRAPPIST-1, you need steller spectra data of the TOA for TRAPPIST-1 or at least a star similar in the same spectral class M9V (check Gillion paper). Look for data to download and repeat the intregal code for the full wavelength and PAR range in energy and photons. \n",
    "\n",
    "Data used is a model of the TRAPPIST-1 spectrum where the flux is given at 1 AU. (Lincowski et al., 2018) http://vpl.astro.washington.edu/spectra/stellar/trappist1.htm\n",
    "\n",
    "The visible-NIR portion is a standard 2500K M dwarf from the PHOENIX 2.0 spectral library\n",
    "(http://phoenix.astro.physik.uni-goettingen.de/)\n",
    "with UV < 0.3112 um from the Meadows et al. 2018 Proxima Centauri spectrum\n",
    "with UV scaled such that Lyman alpha is 1/6 of Proxima, according to Bourrier et al 2017. It includes a 3000 K fit blackbody extension from 5.5 to 200 microns\n",
    "The bolometric flux has been scaled to the luminosity of TRAPPIST-1 (0.000525 L_sun)\n",
    "\n",
    "Bourrier et al 2017 https://www.aanda.org/articles/aa/full_html/2017/03/aa30238-16/aa30238-16.html\n",
    "\n",
    "France et al 2013 https://iopscience.iop.org/article/10.1088/0004-637X/763/2/149\n",
    "\n",
    "Incident Flux https://www.sciencedirect.com/topics/earth-and-planetary-sciences/flux-density#:~:text=This%20so%2Dcalled%20inverse%20square,c%20o%20n%20s%20t%20."
   ]
  },
  {
   "cell_type": "code",
   "execution_count": 7,
   "metadata": {},
   "outputs": [
    {
     "data": {
      "text/html": [
       "<div>\n",
       "<style scoped>\n",
       "    .dataframe tbody tr th:only-of-type {\n",
       "        vertical-align: middle;\n",
       "    }\n",
       "\n",
       "    .dataframe tbody tr th {\n",
       "        vertical-align: top;\n",
       "    }\n",
       "\n",
       "    .dataframe thead th {\n",
       "        text-align: right;\n",
       "    }\n",
       "</style>\n",
       "<table border=\"1\" class=\"dataframe\">\n",
       "  <thead>\n",
       "    <tr style=\"text-align: right;\">\n",
       "      <th></th>\n",
       "      <th>wavelength</th>\n",
       "      <th>flux</th>\n",
       "    </tr>\n",
       "  </thead>\n",
       "  <tbody>\n",
       "    <tr>\n",
       "      <th>0</th>\n",
       "      <td>0.120011</td>\n",
       "      <td>6.162980e-04</td>\n",
       "    </tr>\n",
       "    <tr>\n",
       "      <th>1</th>\n",
       "      <td>0.120012</td>\n",
       "      <td>6.576850e-04</td>\n",
       "    </tr>\n",
       "    <tr>\n",
       "      <th>2</th>\n",
       "      <td>0.120013</td>\n",
       "      <td>7.303310e-04</td>\n",
       "    </tr>\n",
       "    <tr>\n",
       "      <th>3</th>\n",
       "      <td>0.120015</td>\n",
       "      <td>6.130150e-04</td>\n",
       "    </tr>\n",
       "    <tr>\n",
       "      <th>4</th>\n",
       "      <td>0.120016</td>\n",
       "      <td>3.218180e-04</td>\n",
       "    </tr>\n",
       "    <tr>\n",
       "      <th>...</th>\n",
       "      <td>...</td>\n",
       "      <td>...</td>\n",
       "    </tr>\n",
       "    <tr>\n",
       "      <th>83272</th>\n",
       "      <td>185.185000</td>\n",
       "      <td>1.712030e-08</td>\n",
       "    </tr>\n",
       "    <tr>\n",
       "      <th>83273</th>\n",
       "      <td>188.679000</td>\n",
       "      <td>1.589080e-08</td>\n",
       "    </tr>\n",
       "    <tr>\n",
       "      <th>83274</th>\n",
       "      <td>192.308000</td>\n",
       "      <td>1.472850e-08</td>\n",
       "    </tr>\n",
       "    <tr>\n",
       "      <th>83275</th>\n",
       "      <td>196.078000</td>\n",
       "      <td>1.363110e-08</td>\n",
       "    </tr>\n",
       "    <tr>\n",
       "      <th>83276</th>\n",
       "      <td>200.000000</td>\n",
       "      <td>1.259610e-08</td>\n",
       "    </tr>\n",
       "  </tbody>\n",
       "</table>\n",
       "<p>83277 rows × 2 columns</p>\n",
       "</div>"
      ],
      "text/plain": [
       "       wavelength          flux\n",
       "0        0.120011  6.162980e-04\n",
       "1        0.120012  6.576850e-04\n",
       "2        0.120013  7.303310e-04\n",
       "3        0.120015  6.130150e-04\n",
       "4        0.120016  3.218180e-04\n",
       "...           ...           ...\n",
       "83272  185.185000  1.712030e-08\n",
       "83273  188.679000  1.589080e-08\n",
       "83274  192.308000  1.472850e-08\n",
       "83275  196.078000  1.363110e-08\n",
       "83276  200.000000  1.259610e-08\n",
       "\n",
       "[83277 rows x 2 columns]"
      ]
     },
     "execution_count": 7,
     "metadata": {},
     "output_type": "execute_result"
    }
   ],
   "source": [
    "cols2=['blank','wavelength', 'flux']\n",
    "#TRAP_data = np.genfromtxt('trappist1_sed.txt', delimiter='\t') \n",
    "TRAP_data1 = pd.read_csv('data/trappist1_sed_original.txt', sep ='\t', usecols=(1, 2), header=19, names=cols2)\n",
    "TRAP_data1 #wavelength in um and flux at 1 AU is W/m2/um"
   ]
  },
  {
   "cell_type": "code",
   "execution_count": 8,
   "metadata": {},
   "outputs": [
    {
     "data": {
      "image/png": "[encoded data removed]",
      "text/plain": [
       "<Figure size 1008x720 with 1 Axes>"
      ]
     },
     "metadata": {
      "needs_background": "light"
     },
     "output_type": "display_data"
    }
   ],
   "source": [
    "plt.plot(TRAP_data1['wavelength'], TRAP_data1['flux'])\n",
    "plt.xlabel('Wavelength [um]')\n",
    "plt.ylabel('Specific Flux at 1 AU [W/m2/um]')\n",
    "plt.xlim(0, 6)\n",
    "plt.title('TRAPPIST-1 Spectrum (Lincowski et al. 2018)');"
   ]
  },
  {
   "cell_type": "code",
   "execution_count": 9,
   "metadata": {},
   "outputs": [
    {
     "data": {
      "image/png": "[encoded data removed]",
      "text/plain": [
       "<Figure size 1008x720 with 1 Axes>"
      ]
     },
     "metadata": {
      "needs_background": "light"
     },
     "output_type": "display_data"
    }
   ],
   "source": [
    "plt.plot(TRAP_data1['wavelength'], TRAP_data1['flux'])\n",
    "plt.title('Representive TRAPPIST-1 Spectrum')\n",
    "plt.xlabel('Wavelength [um]')\n",
    "plt.ylabel('Specific Flux at 1 AU [W/m2/um]')\n",
    "plt.xlim(0.121, 0.122)\n",
    "plt.axvline(0.121557); #"
   ]
  },
  {
   "cell_type": "code",
   "execution_count": 10,
   "metadata": {},
   "outputs": [
    {
     "data": {
      "text/plain": [
       "0.121557"
      ]
     },
     "execution_count": 10,
     "metadata": {},
     "output_type": "execute_result"
    }
   ],
   "source": [
    "TRAP_data1['wavelength'][np.argmax(TRAP_data1['flux'])] #wavelength of maximum flux in spectra"
   ]
  },
  {
   "cell_type": "code",
   "execution_count": 11,
   "metadata": {},
   "outputs": [
    {
     "data": {
      "text/plain": [
       "1.06485"
      ]
     },
     "execution_count": 11,
     "metadata": {},
     "output_type": "execute_result"
    }
   ],
   "source": [
    "TRAP_data1['flux'][np.argmax(TRAP_data1['flux'])] #maximum flux in spectra"
   ]
  },
  {
   "cell_type": "markdown",
   "metadata": {},
   "source": [
    "There is a very strong emission line at 0.121558 microns. This is 1215.58 Angstroms and the Lynmann Alpha line. This is where hydrogen goes from level 2 (first excited state) to level 1 (ground state). When you decrease a level, you are emitting.\n",
    "\n",
    "Considering how large the Lymann Alpha is compared to the main light emission in the infrared of TRAPPIST-1, this is a sign that the star is emitting high amounts of ultraviolet light in that line. All the UV light is concentrated and focused in the area of the line, the rest are flat in the UV region. This could be hazarderous to atmosphere.\n",
    "\n",
    "Chromosphere is optically thin above the photosphere that produces emission lines, which seems indicate the highest flux is in the chromosphere lymann alpha line. (photosphere -> chromosphere -> corona)\n"
   ]
  },
  {
   "cell_type": "markdown",
   "metadata": {},
   "source": [
    "Considering that TRAPPIST-1 model spectrum has a flux at 1 AU, the **flux for the stellar insolation needs to be adjusted to the distance that TRAPPIST- e is at. Since $S_{d} \\propto \\frac{1}{r^{2}}$, then we take the original flux / $d^{2}$ in AU units**.\n",
    "\n",
    "From Agol et. 2021, the distance of TRAPPIST-1 e is 2.925e-2 $\\pm$ 0.025 AU. Whereas Gillon et al. (2017) states the semimajor axis is 0.02817 AU.\n",
    "\n",
    "While Linckowski et. al. published this in 2018, in this version will see how it matches with the data from the Time Transit Varinging results of Agol et. al. 2021 of 0.02925 AU.\n",
    "\n",
    "Note: to fix the speed of your blackbody function graph. Just have it be full wavelength TRAPPIST-1 data from 0.120 microns to 200 microns."
   ]
  },
  {
   "cell_type": "code",
   "execution_count": 12,
   "metadata": {},
   "outputs": [
    {
     "data": {
      "text/plain": [
       "0        0.720342\n",
       "1        0.768716\n",
       "2        0.853627\n",
       "3        0.716505\n",
       "4        0.376148\n",
       "           ...   \n",
       "83272    0.000020\n",
       "83273    0.000019\n",
       "83274    0.000017\n",
       "83275    0.000016\n",
       "83276    0.000015\n",
       "Name: flux, Length: 83277, dtype: float64"
      ]
     },
     "execution_count": 12,
     "metadata": {},
     "output_type": "execute_result"
    }
   ],
   "source": [
    "#Agol et al. 2021 distance. S = 1/r^2\n",
    "flux_TRAP1e1 = (TRAP_data1['flux'])/((0.02925)**2)\n",
    "flux_TRAP1e1"
   ]
  },
  {
   "cell_type": "code",
   "execution_count": 13,
   "metadata": {},
   "outputs": [
    {
     "data": {
      "text/plain": [
       "0.0008555625000000001"
      ]
     },
     "execution_count": 13,
     "metadata": {},
     "output_type": "execute_result"
    }
   ],
   "source": [
    "(0.02925)**2"
   ]
  },
  {
   "cell_type": "code",
   "execution_count": 14,
   "metadata": {},
   "outputs": [
    {
     "data": {
      "text/plain": [
       "1168.8216816421943"
      ]
     },
     "execution_count": 14,
     "metadata": {},
     "output_type": "execute_result"
    }
   ],
   "source": [
    "(1)/((0.02925)**2)"
   ]
  },
  {
   "cell_type": "markdown",
   "metadata": {},
   "source": [
    "**Energy Flux**"
   ]
  },
  {
   "cell_type": "code",
   "execution_count": 15,
   "metadata": {},
   "outputs": [
    {
     "data": {
      "image/png": "[encoded data removed]",
      "text/plain": [
       "<Figure size 1008x720 with 1 Axes>"
      ]
     },
     "metadata": {
      "needs_background": "light"
     },
     "output_type": "display_data"
    }
   ],
   "source": [
    "#using Agol et al. 2021 distance\n",
    "plt.plot(TRAP_data1['wavelength'], flux_TRAP1e1, color='red')\n",
    "#Earth data\n",
    "plt.plot(sol_data['Wavelength'],sol_data['Solar Flux incident at top of atmosphere'], \n",
    "         color='green')\n",
    "plt.xlabel(r'Wavelength [$\\mu$m]')\n",
    "plt.ylabel(r'Specific Flux[W/$m^{2}$/$\\mu$m]')\n",
    "plt.xlim(0.1, 3.0) #UV starts at 1.0 micron\n",
    "#plt.title('Representive TRAPPIST-1 Spectrum vs Solar Flux Spectrum')\n",
    "plt.text(0.5, 2225, 'Earth', c='green', fontsize=25)\n",
    "plt.text(1.15, 1000, 'TRAPPIST-1 e', c='red', fontsize=25)\n",
    "plt.axvline(0.4, c='black', ls='--', label='PAR')\n",
    "plt.axvline(0.7, c='black', ls='--')\n",
    "plt.axvline(0.75, c='orange', ls='--', label='Near-Infrared')\n",
    "plt.axvline(2.5, c='orange', ls='--')\n",
    "plt.legend(fontsize='large')\n",
    "plt.xticks(fontsize = 15)\n",
    "plt.yticks(fontsize = 15)\n",
    "plt.grid();"
   ]
  },
  {
   "cell_type": "code",
   "execution_count": 16,
   "metadata": {},
   "outputs": [
    {
     "data": {
      "text/plain": [
       "0.02291427968163235"
      ]
     },
     "execution_count": 16,
     "metadata": {},
     "output_type": "execute_result"
    }
   ],
   "source": [
    "L_sol = 3.828e26 #W ,solar luminosity\n",
    "L_TRAPPIST1 = 0.000525*L_sol\n",
    "d_norm_S_M = np.sqrt(L_TRAPPIST1/(4*np.pi*1361))\n",
    "au = 149597870700 #m, 1 AU from https://www.iau.org/static/resolutions/IAU2012_English.pdf\n",
    "d_norm_S = d_norm_S_M/au\n",
    "d_norm_S #distance for TRAPPIST-1 to be normalized to 1 S_Earth"
   ]
  },
  {
   "cell_type": "markdown",
   "metadata": {},
   "source": [
    "## Calculations\n",
    "\n",
    "'a' for Earth."
   ]
  },
  {
   "cell_type": "code",
   "execution_count": 17,
   "metadata": {},
   "outputs": [
    {
     "data": {
      "text/plain": [
       "1366.8020639805866"
      ]
     },
     "execution_count": 17,
     "metadata": {},
     "output_type": "execute_result"
    }
   ],
   "source": [
    "#test in full wavelength for photons of Solar Flux\n",
    "n = []\n",
    "n = sol_data['Solar Flux incident at top of atmosphere'] #W/m2/um\n",
    "m = []\n",
    "m = sol_data['Wavelength'] #um\n",
    "o, p = sol_data['Wavelength'][0], sol_data['Wavelength'][97820]\n",
    "trap_rule_data_defintgral(m, n, o, p)"
   ]
  },
  {
   "cell_type": "code",
   "execution_count": 18,
   "metadata": {},
   "outputs": [
    {
     "data": {
      "text/plain": [
       "0.4263088890952668"
      ]
     },
     "execution_count": 18,
     "metadata": {},
     "output_type": "execute_result"
    }
   ],
   "source": [
    "a = trap_rule_data_defintgral(m, n, o, p)\n",
    "np.absolute(a - (1361))/(1361)*100"
   ]
  },
  {
   "cell_type": "code",
   "execution_count": 19,
   "metadata": {},
   "outputs": [
    {
     "data": {
      "text/plain": [
       "0.051391843978235284"
      ]
     },
     "execution_count": 19,
     "metadata": {},
     "output_type": "execute_result"
    }
   ],
   "source": [
    "#2000 ASTM mean irradence for Earth is 1366.1 W/m^2\n",
    "np.absolute(a - (1366.1))/(1366.1)*100"
   ]
  },
  {
   "cell_type": "code",
   "execution_count": 20,
   "metadata": {},
   "outputs": [],
   "source": [
    "d, e = 0.4, 0.7 #microns"
   ]
  },
  {
   "cell_type": "code",
   "execution_count": 21,
   "metadata": {},
   "outputs": [
    {
     "data": {
      "text/plain": [
       "530.8008648229996"
      ]
     },
     "execution_count": 21,
     "metadata": {},
     "output_type": "execute_result"
    }
   ],
   "source": [
    "#Trap rule for energy in par\n",
    "trap_rule_data_defintgral(m, n, d, e)"
   ]
  },
  {
   "cell_type": "code",
   "execution_count": 22,
   "metadata": {},
   "outputs": [
    {
     "data": {
      "text/plain": [
       "0.38835240215919"
      ]
     },
     "execution_count": 22,
     "metadata": {},
     "output_type": "execute_result"
    }
   ],
   "source": [
    "a_PAR = trap_rule_data_defintgral(m, n, d, e)\n",
    "a_PAR/a"
   ]
  },
  {
   "cell_type": "code",
   "execution_count": 23,
   "metadata": {},
   "outputs": [
    {
     "data": {
      "text/plain": [
       "6.318968046213717e+21"
      ]
     },
     "execution_count": 23,
     "metadata": {},
     "output_type": "execute_result"
    }
   ],
   "source": [
    "#Photons of Earth\n",
    "a_photons = trap_rule_data_defintgral_photons(m, n, o, p, h, c)\n",
    "a_photons"
   ]
  },
  {
   "cell_type": "code",
   "execution_count": null,
   "metadata": {},
   "outputs": [],
   "source": []
  },
  {
   "cell_type": "code",
   "execution_count": 24,
   "metadata": {},
   "outputs": [
    {
     "data": {
      "text/plain": [
       "5.0"
      ]
     },
     "execution_count": 24,
     "metadata": {},
     "output_type": "execute_result"
    }
   ],
   "source": [
    "sol_data['Wavelength'][97820]"
   ]
  },
  {
   "cell_type": "code",
   "execution_count": 25,
   "metadata": {},
   "outputs": [
    {
     "data": {
      "text/plain": [
       "1.4558190736255224e+21"
      ]
     },
     "execution_count": 25,
     "metadata": {},
     "output_type": "execute_result"
    }
   ],
   "source": [
    "a_photons_PAR = trap_rule_data_defintgral_photons(m, n, d, e, h, c)\n",
    "a_photons_PAR"
   ]
  },
  {
   "cell_type": "code",
   "execution_count": 26,
   "metadata": {},
   "outputs": [
    {
     "data": {
      "text/plain": [
       "23.03887379993699"
      ]
     },
     "execution_count": 26,
     "metadata": {},
     "output_type": "execute_result"
    }
   ],
   "source": [
    "(a_photons_PAR/a_photons)*100"
   ]
  },
  {
   "cell_type": "code",
   "execution_count": null,
   "metadata": {},
   "outputs": [],
   "source": []
  },
  {
   "cell_type": "markdown",
   "metadata": {},
   "source": [
    " 'b' for TRAPPIST-1 e."
   ]
  },
  {
   "cell_type": "code",
   "execution_count": 27,
   "metadata": {},
   "outputs": [
    {
     "data": {
      "text/plain": [
       "835.2382299825273"
      ]
     },
     "execution_count": 27,
     "metadata": {},
     "output_type": "execute_result"
    }
   ],
   "source": [
    "#TRAPPIST-1 e in full wavelength, energy\n",
    "g = []\n",
    "g = TRAP_data1['wavelength']\n",
    "y = []\n",
    "y = flux_TRAP1e1\n",
    "i, j = TRAP_data1['wavelength'][0], TRAP_data1['wavelength'][83276]\n",
    "trap_rule_data_defintgral(g, y, i, j) #W/m^2"
   ]
  },
  {
   "cell_type": "code",
   "execution_count": 28,
   "metadata": {},
   "outputs": [],
   "source": [
    "j_a = 5.0"
   ]
  },
  {
   "cell_type": "code",
   "execution_count": 29,
   "metadata": {},
   "outputs": [
    {
     "data": {
      "text/plain": [
       "795.4401282616826"
      ]
     },
     "execution_count": 29,
     "metadata": {},
     "output_type": "execute_result"
    }
   ],
   "source": [
    "trap_rule_data_defintgral(g, y, i, j_a) #from 0.12 to 5 microns as with the Solar Flux full length data"
   ]
  },
  {
   "cell_type": "code",
   "execution_count": 30,
   "metadata": {},
   "outputs": [
    {
     "data": {
      "text/plain": [
       "5.000849632221883"
      ]
     },
     "execution_count": 30,
     "metadata": {},
     "output_type": "execute_result"
    }
   ],
   "source": [
    "b = trap_rule_data_defintgral(g, y, i, j)\n",
    "np.absolute(b - (0.646*1361))/(0.646*1361)*100"
   ]
  },
  {
   "cell_type": "code",
   "execution_count": 31,
   "metadata": {},
   "outputs": [
    {
     "data": {
      "text/plain": [
       "5.404120276202298"
      ]
     },
     "execution_count": 31,
     "metadata": {},
     "output_type": "execute_result"
    }
   ],
   "source": [
    "np.absolute(b - (0.646*a))/(0.646*a)*100"
   ]
  },
  {
   "cell_type": "code",
   "execution_count": 32,
   "metadata": {},
   "outputs": [
    {
     "data": {
      "text/plain": [
       "4.378540350354687"
      ]
     },
     "execution_count": 32,
     "metadata": {},
     "output_type": "execute_result"
    }
   ],
   "source": [
    "#Trap rule for energy in par\n",
    "trap_rule_data_defintgral(g, y, d, e)"
   ]
  },
  {
   "cell_type": "code",
   "execution_count": 33,
   "metadata": {},
   "outputs": [
    {
     "data": {
      "text/plain": [
       "0.005242265252209879"
      ]
     },
     "execution_count": 33,
     "metadata": {},
     "output_type": "execute_result"
    }
   ],
   "source": [
    "b_PAR = trap_rule_data_defintgral(g, y, d, e)\n",
    "b_PAR/b"
   ]
  },
  {
   "cell_type": "code",
   "execution_count": 34,
   "metadata": {},
   "outputs": [
    {
     "data": {
      "text/plain": [
       "0.005504550493226111"
      ]
     },
     "execution_count": 34,
     "metadata": {},
     "output_type": "execute_result"
    }
   ],
   "source": [
    "b_5m = trap_rule_data_defintgral(g, y, i, j_a) #from 0.12 to 5 microns as with the Solar Flux full length data\n",
    "b_PAR/b_5m"
   ]
  },
  {
   "cell_type": "code",
   "execution_count": null,
   "metadata": {},
   "outputs": [],
   "source": []
  },
  {
   "cell_type": "code",
   "execution_count": 35,
   "metadata": {},
   "outputs": [
    {
     "data": {
      "text/plain": [
       "8.57290550803499e+21"
      ]
     },
     "execution_count": 35,
     "metadata": {},
     "output_type": "execute_result"
    }
   ],
   "source": [
    "#Trapezoid rule in photons\n",
    "trap_rule_data_defintgral_photons(g, y, i, j, h, c) #photons m-2 s-1"
   ]
  },
  {
   "cell_type": "code",
   "execution_count": 36,
   "metadata": {},
   "outputs": [
    {
     "data": {
      "text/plain": [
       "6.951154081068901e+21"
      ]
     },
     "execution_count": 36,
     "metadata": {},
     "output_type": "execute_result"
    }
   ],
   "source": [
    "trap_rule_data_defintgral_photons(g, y, i, j_a, h, c)"
   ]
  },
  {
   "cell_type": "code",
   "execution_count": 37,
   "metadata": {},
   "outputs": [],
   "source": [
    "b_photon = trap_rule_data_defintgral_photons(g, y, i, j, h, c)"
   ]
  },
  {
   "cell_type": "code",
   "execution_count": 38,
   "metadata": {},
   "outputs": [
    {
     "data": {
      "text/plain": [
       "6.951154081068901e+21"
      ]
     },
     "execution_count": 38,
     "metadata": {},
     "output_type": "execute_result"
    }
   ],
   "source": [
    "b_photon_5m = trap_rule_data_defintgral_photons(g, y, i, j_a, h, c) #from 0.12 to 5 microns\n",
    "b_photon_5m"
   ]
  },
  {
   "cell_type": "code",
   "execution_count": 39,
   "metadata": {},
   "outputs": [
    {
     "data": {
      "text/plain": [
       "1.3235421301108281e+19"
      ]
     },
     "execution_count": 39,
     "metadata": {},
     "output_type": "execute_result"
    }
   ],
   "source": [
    "#PAR range\n",
    "b_photon_PAR = trap_rule_data_defintgral_photons(g, y, d, e, h, c)\n",
    "b_photon_PAR"
   ]
  },
  {
   "cell_type": "code",
   "execution_count": 40,
   "metadata": {},
   "outputs": [
    {
     "data": {
      "text/plain": [
       "0.15438664626249912"
      ]
     },
     "execution_count": 40,
     "metadata": {},
     "output_type": "execute_result"
    }
   ],
   "source": [
    "(b_photon_PAR/b_photon)*100"
   ]
  },
  {
   "cell_type": "code",
   "execution_count": 41,
   "metadata": {},
   "outputs": [
    {
     "data": {
      "text/plain": [
       "0.1904060987103458"
      ]
     },
     "execution_count": 41,
     "metadata": {},
     "output_type": "execute_result"
    }
   ],
   "source": [
    "(b_photon_PAR/b_photon_5m)*100"
   ]
  },
  {
   "cell_type": "markdown",
   "metadata": {},
   "source": [
    "*In the PAR range in photons*, the area of the amount of photons from the blackbody curve is **7.86 times higher** than the model spectra (based on the distance from Agol et. al. 2021). Only 0.15% of total photons are in the PAR region."
   ]
  },
  {
   "cell_type": "markdown",
   "metadata": {},
   "source": [
    "Comparisons "
   ]
  },
  {
   "cell_type": "code",
   "execution_count": 42,
   "metadata": {},
   "outputs": [
    {
     "data": {
      "text/plain": [
       "0.6110893830157331"
      ]
     },
     "execution_count": 42,
     "metadata": {},
     "output_type": "execute_result"
    }
   ],
   "source": [
    "#full from 0.1 to 200 microns for TRAPPIST-1 e\n",
    "#full from 0.1 to 5 microns for Earth\n",
    "b/a"
   ]
  },
  {
   "cell_type": "code",
   "execution_count": 43,
   "metadata": {},
   "outputs": [
    {
     "data": {
      "text/plain": [
       "1.356693916686573"
      ]
     },
     "execution_count": 43,
     "metadata": {},
     "output_type": "execute_result"
    }
   ],
   "source": [
    "b_photon/a_photons"
   ]
  },
  {
   "cell_type": "code",
   "execution_count": 44,
   "metadata": {},
   "outputs": [
    {
     "data": {
      "text/plain": [
       "8.57290550803499e+21"
      ]
     },
     "execution_count": 44,
     "metadata": {},
     "output_type": "execute_result"
    }
   ],
   "source": [
    "b_photon"
   ]
  },
  {
   "cell_type": "code",
   "execution_count": 45,
   "metadata": {},
   "outputs": [
    {
     "data": {
      "text/plain": [
       "6.318968046213717e+21"
      ]
     },
     "execution_count": 45,
     "metadata": {},
     "output_type": "execute_result"
    }
   ],
   "source": [
    "a_photons"
   ]
  },
  {
   "cell_type": "code",
   "execution_count": 46,
   "metadata": {},
   "outputs": [
    {
     "data": {
      "text/plain": [
       "6.951154081068901e+21"
      ]
     },
     "execution_count": 46,
     "metadata": {},
     "output_type": "execute_result"
    }
   ],
   "source": [
    "trap_rule_data_defintgral_photons(g, y, i, j_a, h, c)"
   ]
  },
  {
   "cell_type": "code",
   "execution_count": 47,
   "metadata": {},
   "outputs": [
    {
     "data": {
      "text/plain": [
       "1.1000457717512886"
      ]
     },
     "execution_count": 47,
     "metadata": {},
     "output_type": "execute_result"
    }
   ],
   "source": [
    "trap_rule_data_defintgral_photons(g, y, i, j_a, h, c)/a_photons\n",
    "#from 0.12 to 5 microns as with the Solar Flux full length data"
   ]
  },
  {
   "cell_type": "code",
   "execution_count": 48,
   "metadata": {},
   "outputs": [
    {
     "data": {
      "text/plain": [
       "0.8248932208908044"
      ]
     },
     "execution_count": 48,
     "metadata": {},
     "output_type": "execute_result"
    }
   ],
   "source": [
    "#energy\n",
    "(b_PAR/a_PAR)*100"
   ]
  },
  {
   "cell_type": "code",
   "execution_count": 49,
   "metadata": {},
   "outputs": [
    {
     "data": {
      "text/plain": [
       "0.008248932208908044"
      ]
     },
     "execution_count": 49,
     "metadata": {},
     "output_type": "execute_result"
    }
   ],
   "source": [
    "b_PAR/a_PAR"
   ]
  },
  {
   "cell_type": "code",
   "execution_count": 50,
   "metadata": {},
   "outputs": [
    {
     "data": {
      "text/plain": [
       "0.9091391602767807"
      ]
     },
     "execution_count": 50,
     "metadata": {},
     "output_type": "execute_result"
    }
   ],
   "source": [
    "#photons\n",
    "(b_photon_PAR/a_photons_PAR)*100"
   ]
  },
  {
   "cell_type": "code",
   "execution_count": null,
   "metadata": {},
   "outputs": [],
   "source": []
  },
  {
   "cell_type": "markdown",
   "metadata": {},
   "source": [
    "From the coding above using the data sets from Trapezoid Rule:\n",
    "\n",
    "\n",
    "| Instellation in Photons                                          | Full Wavelength        | PAR                        |\n",
    "|------------------------------------------------------------------|------------------------|----------------------------|\n",
    "| Sun-Earth                                                        | 6.318968046213717e+21  |  1.4558190736255224e+21    |\n",
    "| TRAPPIST 1e (Gillion et al. 2017)                                | 9.242853803613324e+21  | 1.42697320063445e+19       |\n",
    "|  TRAPPIST 1e (Agol et al. 2021)                                  | 8.57290550803499e+21   | 1.3235421301108281e+19     |\n"
   ]
  },
  {
   "cell_type": "code",
   "execution_count": 51,
   "metadata": {},
   "outputs": [
    {
     "data": {
      "text/plain": [
       "0.07585458765417852"
      ]
     },
     "execution_count": 51,
     "metadata": {},
     "output_type": "execute_result"
    }
   ],
   "source": [
    "#fraction Trappist-1e blackbody over Solar Flux TOA blackbody\n",
    "(1.040342063775682e+20)/(1.3714952462975705e+21)"
   ]
  },
  {
   "cell_type": "markdown",
   "metadata": {},
   "source": [
    "### PAR Extension - 750 nm\n",
    "\n",
    "Chlorophyll *d* and *f* have wavelength peaks reaching 750 nm. We will do an extended version and see how many photons are included in comparison with Earth and TRAPPIST-1.\n",
    "\n",
    "**Energy:**\n",
    "\n",
    "Earth"
   ]
  },
  {
   "cell_type": "code",
   "execution_count": 52,
   "metadata": {},
   "outputs": [
    {
     "data": {
      "text/plain": [
       "597.7077835829986"
      ]
     },
     "execution_count": 52,
     "metadata": {},
     "output_type": "execute_result"
    }
   ],
   "source": [
    "e_ext = 0.750 #0.75 microns or 750 nm\n",
    "#Earth\n",
    "#Trap rule for energy in par\n",
    "trap_rule_data_defintgral(m, n, d, e_ext)"
   ]
  },
  {
   "cell_type": "code",
   "execution_count": 53,
   "metadata": {},
   "outputs": [
    {
     "data": {
      "text/plain": [
       "66.90691876000004"
      ]
     },
     "execution_count": 53,
     "metadata": {},
     "output_type": "execute_result"
    }
   ],
   "source": [
    "#from 700-750 nm\n",
    "trap_rule_data_defintgral(m, n, e, e_ext)"
   ]
  },
  {
   "cell_type": "code",
   "execution_count": 54,
   "metadata": {},
   "outputs": [
    {
     "data": {
      "text/plain": [
       "0.43730383450129773"
      ]
     },
     "execution_count": 54,
     "metadata": {},
     "output_type": "execute_result"
    }
   ],
   "source": [
    "a_PAR_ext = trap_rule_data_defintgral(m, n, d, e_ext)\n",
    "a_PAR_ext/a"
   ]
  },
  {
   "cell_type": "code",
   "execution_count": 55,
   "metadata": {},
   "outputs": [
    {
     "data": {
      "text/plain": [
       "0.8880608206924778"
      ]
     },
     "execution_count": 55,
     "metadata": {},
     "output_type": "execute_result"
    }
   ],
   "source": [
    "a_PAR/a_PAR_ext"
   ]
  },
  {
   "cell_type": "code",
   "execution_count": 56,
   "metadata": {},
   "outputs": [
    {
     "data": {
      "text/plain": [
       "1.1260490010360282"
      ]
     },
     "execution_count": 56,
     "metadata": {},
     "output_type": "execute_result"
    }
   ],
   "source": [
    "a_PAR_ext/a_PAR"
   ]
  },
  {
   "cell_type": "markdown",
   "metadata": {},
   "source": [
    "TRAPPIST-1 e"
   ]
  },
  {
   "cell_type": "code",
   "execution_count": 57,
   "metadata": {},
   "outputs": [
    {
     "data": {
      "text/plain": [
       "9.804359233954667"
      ]
     },
     "execution_count": 57,
     "metadata": {},
     "output_type": "execute_result"
    }
   ],
   "source": [
    "#Trap rule for energy in par\n",
    "trap_rule_data_defintgral(g, y, d, e_ext)"
   ]
  },
  {
   "cell_type": "code",
   "execution_count": 58,
   "metadata": {},
   "outputs": [
    {
     "data": {
      "text/plain": [
       "5.425818883599973"
      ]
     },
     "execution_count": 58,
     "metadata": {},
     "output_type": "execute_result"
    }
   ],
   "source": [
    "#from 700-750 nm\n",
    "trap_rule_data_defintgral(g, y, e, e_ext)"
   ]
  },
  {
   "cell_type": "code",
   "execution_count": 59,
   "metadata": {},
   "outputs": [
    {
     "data": {
      "text/plain": [
       "0.012325703576686095"
      ]
     },
     "execution_count": 59,
     "metadata": {},
     "output_type": "execute_result"
    }
   ],
   "source": [
    "b_PAR_ext = trap_rule_data_defintgral(g, y, d, e_ext)\n",
    "b_PAR_ext/b_5m #from 0.12 to 5 microns as with the Solar Flux full length data"
   ]
  },
  {
   "cell_type": "code",
   "execution_count": 60,
   "metadata": {},
   "outputs": [
    {
     "data": {
      "text/plain": [
       "0.4465911790737769"
      ]
     },
     "execution_count": 60,
     "metadata": {},
     "output_type": "execute_result"
    }
   ],
   "source": [
    "b_PAR/b_PAR_ext"
   ]
  },
  {
   "cell_type": "markdown",
   "metadata": {},
   "source": [
    "Comparsions: TRAPPIST-1 e/Earth"
   ]
  },
  {
   "cell_type": "code",
   "execution_count": 61,
   "metadata": {},
   "outputs": [
    {
     "data": {
      "text/plain": [
       "1.640326511256352"
      ]
     },
     "execution_count": 61,
     "metadata": {},
     "output_type": "execute_result"
    }
   ],
   "source": [
    "(b_PAR_ext/a_PAR_ext)*100"
   ]
  },
  {
   "cell_type": "code",
   "execution_count": 62,
   "metadata": {},
   "outputs": [
    {
     "data": {
      "text/plain": [
       "8.109503447711855"
      ]
     },
     "execution_count": 62,
     "metadata": {},
     "output_type": "execute_result"
    }
   ],
   "source": [
    "a_PAR_ext_7_75 = trap_rule_data_defintgral(m, n, e, e_ext)\n",
    "b_PAR_ext_7_75 = trap_rule_data_defintgral(g, y, e, e_ext)\n",
    "(b_PAR_ext_7_75/a_PAR_ext_7_75)*100"
   ]
  },
  {
   "cell_type": "markdown",
   "metadata": {},
   "source": [
    "**Photons:**\n",
    "\n",
    "Earth"
   ]
  },
  {
   "cell_type": "code",
   "execution_count": 63,
   "metadata": {},
   "outputs": [
    {
     "data": {
      "text/plain": [
       "1.699854784002137e+21"
      ]
     },
     "execution_count": 63,
     "metadata": {},
     "output_type": "execute_result"
    }
   ],
   "source": [
    "#Earth\n",
    "a_photons_PAR_ext = trap_rule_data_defintgral_photons(m, n, d, e_ext, h, c)\n",
    "a_photons_PAR_ext"
   ]
  },
  {
   "cell_type": "code",
   "execution_count": 64,
   "metadata": {},
   "outputs": [
    {
     "data": {
      "text/plain": [
       "2.4403571037661423e+20"
      ]
     },
     "execution_count": 64,
     "metadata": {},
     "output_type": "execute_result"
    }
   ],
   "source": [
    "#700-750nm\n",
    "a_photons_PAR_7_75 = trap_rule_data_defintgral_photons(m, n, e, e_ext, h, c)\n",
    "a_photons_PAR_7_75"
   ]
  },
  {
   "cell_type": "code",
   "execution_count": 65,
   "metadata": {},
   "outputs": [
    {
     "data": {
      "text/plain": [
       "0.2690082892602501"
      ]
     },
     "execution_count": 65,
     "metadata": {},
     "output_type": "execute_result"
    }
   ],
   "source": [
    "a_photons_PAR_ext/a_photons"
   ]
  },
  {
   "cell_type": "code",
   "execution_count": 66,
   "metadata": {},
   "outputs": [
    {
     "data": {
      "text/plain": [
       "0.8564373188384615"
      ]
     },
     "execution_count": 66,
     "metadata": {},
     "output_type": "execute_result"
    }
   ],
   "source": [
    "a_photons_PAR/a_photons_PAR_ext"
   ]
  },
  {
   "cell_type": "markdown",
   "metadata": {},
   "source": [
    "TRAPPIST-1 e"
   ]
  },
  {
   "cell_type": "code",
   "execution_count": 67,
   "metadata": {},
   "outputs": [
    {
     "data": {
      "text/plain": [
       "3.327068423090348e+19"
      ]
     },
     "execution_count": 67,
     "metadata": {},
     "output_type": "execute_result"
    }
   ],
   "source": [
    "b_photon_PAR_ext = trap_rule_data_defintgral_photons(g, y, d, e_ext, h, c)\n",
    "b_photon_PAR_ext"
   ]
  },
  {
   "cell_type": "code",
   "execution_count": 68,
   "metadata": {},
   "outputs": [
    {
     "data": {
      "text/plain": [
       "2.003526292979515e+19"
      ]
     },
     "execution_count": 68,
     "metadata": {},
     "output_type": "execute_result"
    }
   ],
   "source": [
    "b_photon_PAR_7_75 = trap_rule_data_defintgral_photons(g, y, e, e_ext, h, c)\n",
    "b_photon_PAR_7_75"
   ]
  },
  {
   "cell_type": "code",
   "execution_count": 69,
   "metadata": {},
   "outputs": [
    {
     "data": {
      "text/plain": [
       "0.004786354012999715"
      ]
     },
     "execution_count": 69,
     "metadata": {},
     "output_type": "execute_result"
    }
   ],
   "source": [
    "b_photon_PAR_ext/b_photon_5m"
   ]
  },
  {
   "cell_type": "code",
   "execution_count": 70,
   "metadata": {},
   "outputs": [
    {
     "data": {
      "text/plain": [
       "0.001904060987103458"
      ]
     },
     "execution_count": 70,
     "metadata": {},
     "output_type": "execute_result"
    }
   ],
   "source": [
    "b_photon_PAR/b_photon_5m"
   ]
  },
  {
   "cell_type": "code",
   "execution_count": 71,
   "metadata": {},
   "outputs": [
    {
     "data": {
      "text/plain": [
       "0.39781031280428425"
      ]
     },
     "execution_count": 71,
     "metadata": {},
     "output_type": "execute_result"
    }
   ],
   "source": [
    "b_photon_PAR/b_photon_PAR_ext"
   ]
  },
  {
   "cell_type": "markdown",
   "metadata": {},
   "source": [
    "Comparsions: TRAPPIST-1 e/Earth"
   ]
  },
  {
   "cell_type": "code",
   "execution_count": 72,
   "metadata": {},
   "outputs": [
    {
     "data": {
      "text/plain": [
       "1.9572662643905971"
      ]
     },
     "execution_count": 72,
     "metadata": {},
     "output_type": "execute_result"
    }
   ],
   "source": [
    "#photons\n",
    "(b_photon_PAR_ext/a_photons_PAR_ext)*100"
   ]
  },
  {
   "cell_type": "code",
   "execution_count": 73,
   "metadata": {},
   "outputs": [
    {
     "data": {
      "text/plain": [
       "8.209971769654215"
      ]
     },
     "execution_count": 73,
     "metadata": {},
     "output_type": "execute_result"
    }
   ],
   "source": [
    "(b_photon_PAR_7_75/a_photons_PAR_7_75)*100"
   ]
  },
  {
   "cell_type": "markdown",
   "metadata": {},
   "source": [
    "Based on the ratio comparisons in PAR region, when using the model spectrum data of both TRAPPIST-1 e over the solar flux TOA (Sun-Earth) the ratio is 0.009091 (0.9%). (**Most important value**) And then using the comparison of both of their blackbody function models, their ratio is 0.07585 (7.6%). The blackbody number is shown to be a very inaccurate number as proven in the graph where the spectra is far smaller to the blackbody than predicted in PAR region. \n",
    "\n",
    "We can *almost* draw conclusions on TRAPPIST-1 e at the TOA in PAR region in number of photons. But we don't know what the atmosphere is like. We can make assumations such as an Earth-like atmosphere but consider that Earth's atmosphere has changed over time.\n"
   ]
  },
  {
   "cell_type": "code",
   "execution_count": 74,
   "metadata": {},
   "outputs": [],
   "source": [
    "#Converting photons to millimols\n",
    "def photons_to_mmol(x, A):\n",
    "    y = x*(1/A)*(1000) #(1mol/Av)*(1000 mmol/mol)\n",
    "    return y #mmol*s^{-1}*m^{-2}\n",
    "\n",
    "def photons_to_mmol_micron(x, A):\n",
    "    y = x*(1/A)*(1000)*((1e-6)**2) #(1mol/Av)*(1000 mmol/mol)*(1e-6m/micron)^2\n",
    "    return y #mmol*s^{-1}*micron^{-2}\n",
    "\n",
    "def photons_to_mmol_A(x, A):\n",
    "    y = x*(1/A)*(1000)*((1e-10)**2) #(1mol/Av)*(1000 mmol/mol)*(1e-6m/micron)^2\n",
    "    return y #mmol*s^{-1}*Angstrom^{-2}\n",
    "\n",
    "def photons_to_micromol(x, A):\n",
    "    y = x*(1/A)*(1e6)\n",
    "    return y #micromol m^[-2] s^[-1]\n",
    "\n",
    "def photons_to_nmol(x, A): #nanomal\n",
    "    y = x*(1/A)*(1e9)\n",
    "    return y #nmol m^[-2] s^[-1]\n",
    "\n",
    "#avogadro's number\n",
    "A_v = 6.0221409e+23"
   ]
  },
  {
   "cell_type": "code",
   "execution_count": 75,
   "metadata": {},
   "outputs": [
    {
     "data": {
      "text/plain": [
       "2417.4444464920184"
      ]
     },
     "execution_count": 75,
     "metadata": {},
     "output_type": "execute_result"
    }
   ],
   "source": [
    "Earth_solarflux_micromol = photons_to_micromol(a_photons_PAR , Avogadro) \n",
    "Earth_solarflux_micromol #micromol m-2 s-1"
   ]
  },
  {
   "cell_type": "code",
   "execution_count": 76,
   "metadata": {},
   "outputs": [
    {
     "data": {
      "text/plain": [
       "21.977934140995206"
      ]
     },
     "execution_count": 76,
     "metadata": {},
     "output_type": "execute_result"
    }
   ],
   "source": [
    "TRAP1e_photon_flux_micromol = photons_to_micromol(b_photon_PAR, Avogadro) \n",
    "TRAP1e_photon_flux_micromol #micromol m-2 s-1"
   ]
  },
  {
   "cell_type": "markdown",
   "metadata": {},
   "source": [
    "750nm Extenstion"
   ]
  },
  {
   "cell_type": "code",
   "execution_count": 77,
   "metadata": {},
   "outputs": [
    {
     "data": {
      "text/plain": [
       "2822.6752117376345"
      ]
     },
     "execution_count": 77,
     "metadata": {},
     "output_type": "execute_result"
    }
   ],
   "source": [
    "Earth_solarflux_micromol_ext = photons_to_micromol(a_photons_PAR_ext, A_v) \n",
    "Earth_solarflux_micromol_ext #micromol m-2 s-1"
   ]
  },
  {
   "cell_type": "code",
   "execution_count": 81,
   "metadata": {},
   "outputs": [
    {
     "data": {
      "text/plain": [
       "55.247269672656586"
      ]
     },
     "execution_count": 81,
     "metadata": {},
     "output_type": "execute_result"
    }
   ],
   "source": [
    "TRAP1e_photon_flux_micromol_ext = photons_to_micromol(b_photon_PAR_ext, A_v) \n",
    "TRAP1e_photon_flux_micromol_ext #micromol m-2 s-1"
   ]
  },
  {
   "cell_type": "code",
   "execution_count": 82,
   "metadata": {},
   "outputs": [
    {
     "data": {
      "text/plain": [
       "405.2307652456161"
      ]
     },
     "execution_count": 82,
     "metadata": {},
     "output_type": "execute_result"
    }
   ],
   "source": [
    "Earth_solarflux_micromol_ext - Earth_solarflux_micromol"
   ]
  },
  {
   "cell_type": "code",
   "execution_count": 83,
   "metadata": {},
   "outputs": [
    {
     "data": {
      "text/plain": [
       "33.26933553166138"
      ]
     },
     "execution_count": 83,
     "metadata": {},
     "output_type": "execute_result"
    }
   ],
   "source": [
    "TRAP1e_photon_flux_micromol_ext - TRAP1e_photon_flux_micromol"
   ]
  },
  {
   "cell_type": "markdown",
   "metadata": {},
   "source": [
    "Calculate the number of moles of photons for every square meter per second in PAR range. (mol m-2 s-1)"
   ]
  },
  {
   "cell_type": "code",
   "execution_count": 84,
   "metadata": {},
   "outputs": [
    {
     "data": {
      "text/plain": [
       "0.0024174443902923665"
      ]
     },
     "execution_count": 84,
     "metadata": {},
     "output_type": "execute_result"
    }
   ],
   "source": [
    "a_photons_PAR/A_v "
   ]
  },
  {
   "cell_type": "code",
   "execution_count": 85,
   "metadata": {},
   "outputs": [
    {
     "data": {
      "text/plain": [
       "2.197793363006216e-05"
      ]
     },
     "execution_count": 85,
     "metadata": {},
     "output_type": "execute_result"
    }
   ],
   "source": [
    "b_photon_PAR/A_v"
   ]
  },
  {
   "cell_type": "code",
   "execution_count": 86,
   "metadata": {},
   "outputs": [
    {
     "data": {
      "text/plain": [
       "0.0028226752117376346"
      ]
     },
     "execution_count": 86,
     "metadata": {},
     "output_type": "execute_result"
    }
   ],
   "source": [
    "a_photons_PAR_ext/A_v"
   ]
  },
  {
   "cell_type": "code",
   "execution_count": 87,
   "metadata": {},
   "outputs": [
    {
     "data": {
      "text/plain": [
       "5.524726967265658e-05"
      ]
     },
     "execution_count": 87,
     "metadata": {},
     "output_type": "execute_result"
    }
   ],
   "source": [
    "b_photon_PAR_ext/A_v"
   ]
  },
  {
   "cell_type": "code",
   "execution_count": 88,
   "metadata": {},
   "outputs": [
    {
     "data": {
      "text/plain": [
       "2417.4443902923663"
      ]
     },
     "execution_count": 88,
     "metadata": {},
     "output_type": "execute_result"
    }
   ],
   "source": [
    "(a_photons_PAR/A_v)*(1e6)"
   ]
  },
  {
   "cell_type": "markdown",
   "metadata": {},
   "source": [
    "Test Run of Avogadro's number for micromols"
   ]
  },
  {
   "cell_type": "code",
   "execution_count": 89,
   "metadata": {},
   "outputs": [],
   "source": [
    "def trap_rule_data_defintgral_micromoles(x, f, a, b, h, c): #for definite integral from (a,b) \n",
    "    # photon energy of E = hc/lambda\n",
    "    #NOTE your input for x is in micron and f is per micron. Convert to meters\n",
    "    e = (h*c)/(x*1e-6) #x converting microns to meters, e is photon energy \n",
    "    #check bounday limits, make an if statement to check endpoints\n",
    "    #when finding the index, the units have to be the same with the x array units\n",
    "    difference_array_a = np.absolute(x-a) #take a difference between your x point to the given begin endpoint\n",
    "    index_a = difference_array_a.argmin() #search array for the lowest difference and indexes it\n",
    "    #the lowest difference implies the closest (or exact) point to your given begin endpoint\n",
    "    difference_array_b = np.absolute(x-b) #repeats steps for last endpoint\n",
    "    index_b = difference_array_b.argmin()\n",
    "    #converted to photons\n",
    "    y = (f/1e-6)/(Avogadro*e) #converting per micron to per meter then divide by photon energy and Avogadro's constant\n",
    "    x_m = (x*1e-6) #converting micron to meter\n",
    "    # initial variable stores the sum untile iterated in array later\n",
    "    sum=0\n",
    "    # iterate through the array and add each element to the sum variable\n",
    "    for i in range(index_a, index_b):\n",
    "        delta_x = x_m[i+1] - x_m[i] #for ever index there is a delta x in value\n",
    "        sum = sum + ((y[i+1] + y[i])/2)*(delta_x) #sum = sum + ((f[i+1]+f[i])/2)*(delta_x) #same as f[i-1] + f[i] \n",
    "    return sum*(1e6) #mols to micromols - > outpot is micromols m-2 s-1"
   ]
  },
  {
   "cell_type": "code",
   "execution_count": 90,
   "metadata": {},
   "outputs": [
    {
     "data": {
      "text/plain": [
       "10492.893304961106"
      ]
     },
     "execution_count": 90,
     "metadata": {},
     "output_type": "execute_result"
    }
   ],
   "source": [
    "a_photons_micromoles = trap_rule_data_defintgral_micromoles(m, n, o, p, h, c)\n",
    "a_photons_micromoles \n",
    "#y = (f/1e-6)/(Avogadro*e) -> return sum*(1e6) where Avogadro is already defined and does not need input"
   ]
  },
  {
   "cell_type": "code",
   "execution_count": 91,
   "metadata": {},
   "outputs": [
    {
     "data": {
      "text/plain": [
       "2417.444446492028"
      ]
     },
     "execution_count": 91,
     "metadata": {},
     "output_type": "execute_result"
    }
   ],
   "source": [
    "a_photons_micromoles_PAR = trap_rule_data_defintgral_micromoles(m, n, d, e, h, c)\n",
    "a_photons_micromoles_PAR"
   ]
  },
  {
   "cell_type": "code",
   "execution_count": 92,
   "metadata": {},
   "outputs": [
    {
     "data": {
      "text/plain": [
       "11542.66291355991"
      ]
     },
     "execution_count": 92,
     "metadata": {},
     "output_type": "execute_result"
    }
   ],
   "source": [
    "b_photon_5m_micromoles = trap_rule_data_defintgral_micromoles(g, y, i, j_a, h, c) #from 0.12 to 5 microns\n",
    "b_photon_5m_micromoles"
   ]
  },
  {
   "cell_type": "code",
   "execution_count": 93,
   "metadata": {},
   "outputs": [
    {
     "data": {
      "text/plain": [
       "21.977934140995156"
      ]
     },
     "execution_count": 93,
     "metadata": {},
     "output_type": "execute_result"
    }
   ],
   "source": [
    "b_photon_PAR_micromoles = trap_rule_data_defintgral_micromoles(g, y, d, e, h, c)\n",
    "b_photon_PAR_micromoles"
   ]
  },
  {
   "cell_type": "code",
   "execution_count": 94,
   "metadata": {},
   "outputs": [
    {
     "data": {
      "text/plain": [
       "2822.6752773579146"
      ]
     },
     "execution_count": 94,
     "metadata": {},
     "output_type": "execute_result"
    }
   ],
   "source": [
    "a_photons_PAR_ext_micromoles = trap_rule_data_defintgral_micromoles(m, n, d, e_ext, h, c)\n",
    "a_photons_PAR_ext_micromoles"
   ]
  },
  {
   "cell_type": "code",
   "execution_count": 95,
   "metadata": {},
   "outputs": [
    {
     "data": {
      "text/plain": [
       "55.24727095702002"
      ]
     },
     "execution_count": 95,
     "metadata": {},
     "output_type": "execute_result"
    }
   ],
   "source": [
    "b_photon_PAR_ext_micromoles = trap_rule_data_defintgral_micromoles(g, y, d, e_ext, h, c)\n",
    "b_photon_PAR_ext_micromoles"
   ]
  },
  {
   "cell_type": "code",
   "execution_count": 96,
   "metadata": {},
   "outputs": [
    {
     "data": {
      "text/plain": [
       "6219.77"
      ]
     },
     "execution_count": 96,
     "metadata": {},
     "output_type": "execute_result"
    }
   ],
   "source": [
    "1361*4.57"
   ]
  },
  {
   "cell_type": "markdown",
   "metadata": {},
   "source": [
    "NOTE: THis is all at TOA on a global scale across the entire planet. Find out how much reach the surface based on your previous research and compare to papers on this matter. "
   ]
  },
  {
   "cell_type": "markdown",
   "metadata": {},
   "source": [
    "# Timescales"
   ]
  },
  {
   "cell_type": "markdown",
   "metadata": {},
   "source": [
    "We can almost draw conclusions on TRAPPIST-1 e at the TOA in PAR region in number of photons. But we don't know what the atmosphere is like. We can make assumations such as an Earth-like atmosphere but consider that Earth's atmosphere has changed over time.\n",
    "\n",
    "\n",
    "Origin of Oxygenic Photosynthesis (OP) and Great Oxidation Event (GOE):\n",
    "* For Origin of OP, the range is from 3.5 Gya to 2.7 Gya but 3.0 Bya will be our best guess.\n",
    "* For GOE, my range is 2.4 to 2.22 Gya, but the date point will use is 2.3 Gya. \n",
    "    * 2.4 is the most common in a lot of papers.\n",
    "    * 2.22 from Poulten et al. 2021\n",
    "    * 2.33 (~2.3) from Lou et al. 2016\n",
    "    \n",
    "\n",
    "How long did it took for the GOE to occur once oxygenic photosynthesis began? \n",
    "* Based on the papers my numbers. \n",
    "\n",
    "<br> Minimum:  OP_min - GOE_max = 2.7 - 2.4 = 0.3 Gya\n",
    "\n",
    "<br> Maximum: OP_max - GOE_min = 3.5 - 2.22 = 1.28 Gya \n",
    "\n",
    "<br> Best guess: OP_guess - GOE_guess = 3.0 - 2.3 = 0.7 Gya\n",
    "\n",
    "Make the assumption life on TRAPPIST-1 e is identical to Earth's life. Move the Earth to TRAPPIST-1 e orbit. \n",
    "* How long does it take on TRAPPIST-1 from the origin of oxygenic photosynthesis to GOE? \n",
    "* Take the ratio of amount of photons (Trap_1/Earth) and multiple it with your best guess on the time scale of OP to GOE. \n",
    "* Think about what this means. I need an estimate of the age of TRAPPIST-1. \n",
    "* This is what you will think about your thesis. "
   ]
  },
  {
   "cell_type": "code",
   "execution_count": 97,
   "metadata": {},
   "outputs": [
    {
     "data": {
      "text/plain": [
       "109.99416191637344"
      ]
     },
     "execution_count": 97,
     "metadata": {},
     "output_type": "execute_result"
    }
   ],
   "source": [
    "(b_photon_PAR/a_photons_PAR)**(-1)\n",
    "# inverse to find out many times longer would it take to for TRAPPIST-1 e to recieve photons in equvialent to Earth in PAR"
   ]
  },
  {
   "cell_type": "code",
   "execution_count": 98,
   "metadata": {},
   "outputs": [
    {
     "data": {
      "text/plain": [
       "76.9959133414614"
      ]
     },
     "execution_count": 98,
     "metadata": {},
     "output_type": "execute_result"
    }
   ],
   "source": [
    "#Timescale of OP to GOE based on Best Guess\n",
    "((b_photon_PAR/a_photons_PAR)**(-1))*0.7 #Gya, billion years"
   ]
  },
  {
   "cell_type": "markdown",
   "metadata": {},
   "source": [
    "This implies based the best estimate of OP occurring from 3.0 Gya to GOE at 2.33 Gya, there is a 0.7 Gya timescale for O2 on Earth. If we put Earth in the location of TRAPPIST-1 then based the photon flux ratio in the PAR of TRAPPIST-1 e over Earth, it would take ~77 Gy for an oxygentation period to occur from the origin of oxygenic photosynthetic organisms. \n",
    "\n",
    "This means it will take 77 billion years for TRAPPIST-1 e to reach a significant amount of oxygen to the starting point of the GOE. And there is to consider how it took for Earth to reach siginificant amount of O2 from GOE to Camberian Explosion.\n",
    "\n",
    "More importanly, considering that age of TRAPPIST-1 is 7.6 ± 2.2 Gyr and the Universe is 13.9 Gyr, then TRAPPIST-1 e has not reached a GOE event yet. This implies based on Earth's conditions, that TRAPPIST-1 e possibly has oxygenic microorganisms for 7.6 Gyr but does not contain significant oxygen by biological means. This would put pressure for life on this exoplanet that only simple microbial life can exist, no eurkaryotes or mitochondria, likely just bacteria. \n",
    "\n",
    "In regards to infrared photons:\n",
    "* Why doesn't life just adapt to infrared light? That's the next step."
   ]
  },
  {
   "cell_type": "markdown",
   "metadata": {},
   "source": [
    "Minimum and Maximum Values"
   ]
  },
  {
   "cell_type": "code",
   "execution_count": 99,
   "metadata": {},
   "outputs": [
    {
     "data": {
      "text/plain": [
       "32.99824857491203"
      ]
     },
     "execution_count": 99,
     "metadata": {},
     "output_type": "execute_result"
    }
   ],
   "source": [
    "#Minimun timescale range, 2.7 - 2.4 = 0.3 Gya\n",
    "((b_photon_PAR/a_photons_PAR)**(-1))*0.3 #Gya, billion years"
   ]
  },
  {
   "cell_type": "code",
   "execution_count": 100,
   "metadata": {},
   "outputs": [
    {
     "data": {
      "text/plain": [
       "140.79252725295802"
      ]
     },
     "execution_count": 100,
     "metadata": {},
     "output_type": "execute_result"
    }
   ],
   "source": [
    "#Maximum timescale range, 3.5 - 2.22 = 1.28 Gya\n",
    "((b_photon_PAR/a_photons_PAR)**(-1))*1.28 #Gya, billion years"
   ]
  },
  {
   "cell_type": "markdown",
   "metadata": {},
   "source": [
    "Including the photoinhibtion factor based on Dobbs et al. 1999 of cyanobacteria where on the surface the mean photosynthic photon flux on Earth is 800 µmol m-2 s-1 and on the surface of an air mass of 1.5 for TRAPPIST-1 e is 15.775 µmol m-2 s-1 for tidal lock and for a day-night cycle 7.273 $\\mu$mol m$^{-2}$ s$^{-1}$. \n",
    "\n",
    "Based on the PI Curve vs the Linear Line Assumption, the ratios of $\\frac{Linear Line}{PI curve}$ where the TRAPPIST-1 Surface PAR intersect. \n",
    "* For surface, the photoinhibition factor is 0.44647724173641573 at 15.775 $\\mu$mol m$^{-2}$ s$^{-1}$\n",
    "* For surface, the photoinhibition factor is 0.44259099367446125 at 7.273 $\\mu$mol m$^{-2}$ s$^{-1}$\n",
    "* For 4 mm depth, the photoinhibition factor is 0.27138740487640617 at 15.775 $\\mu$mol m$^{-2}$ s$^{-1}$\n",
    "* For 4 mm depth, the photoinhibition factor is 0.2675769798472117 at 7.273 $\\mu$mol m$^{-2}$ s$^{-1}$"
   ]
  },
  {
   "cell_type": "markdown",
   "metadata": {},
   "source": [
    "Average"
   ]
  },
  {
   "cell_type": "code",
   "execution_count": 101,
   "metadata": {},
   "outputs": [
    {
     "data": {
      "text/plain": [
       "34.37692301367178"
      ]
     },
     "execution_count": 101,
     "metadata": {},
     "output_type": "execute_result"
    }
   ],
   "source": [
    "#cyanobacteria at surface Dobbs et al. 1999 on TRAPPIST-1e Tidal Lock\n",
    "#Average Timescale\n",
    "((b_photon_PAR/a_photons_PAR)**(-1))*0.7*(0.44647724173641573) #Gyr, billion years"
   ]
  },
  {
   "cell_type": "code",
   "execution_count": 102,
   "metadata": {},
   "outputs": [
    {
     "data": {
      "text/plain": [
       "34.07769779467011"
      ]
     },
     "execution_count": 102,
     "metadata": {},
     "output_type": "execute_result"
    }
   ],
   "source": [
    "#cyanobacteria at surface Dobbs et al. 1999 on TRAPPIST-1e Day-Night\n",
    "#Average Timescale\n",
    "((b_photon_PAR/a_photons_PAR)**(-1))*0.7*(0.44259099367446125) #Gyr, billion years"
   ]
  },
  {
   "cell_type": "code",
   "execution_count": 103,
   "metadata": {},
   "outputs": [
    {
     "data": {
      "text/plain": [
       "20.895721107827868"
      ]
     },
     "execution_count": 103,
     "metadata": {},
     "output_type": "execute_result"
    }
   ],
   "source": [
    "#cyanobacteria at 4 mm depth Dobbs et al. 1999 on TRAPPIST-1e Tidal Lock\n",
    "#Average Timescale\n",
    "((b_photon_PAR/a_photons_PAR)**(-1))*0.7*(0.27138740487640617) #Gyr, billion years"
   ]
  },
  {
   "cell_type": "code",
   "execution_count": 104,
   "metadata": {},
   "outputs": [
    {
     "data": {
      "text/plain": [
       "20.602333952485875"
      ]
     },
     "execution_count": 104,
     "metadata": {},
     "output_type": "execute_result"
    }
   ],
   "source": [
    "#cyanobacteria at 4 mm depth Dobbs et al. 1999 on TRAPPIST-1e Day-Night\n",
    "#Average Timescale\n",
    "((b_photon_PAR/a_photons_PAR)**(-1))*0.7*(0.2675769798472117) #Gyr, billion years"
   ]
  },
  {
   "cell_type": "markdown",
   "metadata": {},
   "source": [
    "Minimum "
   ]
  },
  {
   "cell_type": "code",
   "execution_count": 105,
   "metadata": {},
   "outputs": [
    {
     "data": {
      "text/plain": [
       "14.732967005859335"
      ]
     },
     "execution_count": 105,
     "metadata": {},
     "output_type": "execute_result"
    }
   ],
   "source": [
    "#cyanobacteria at surface Dobbs et al. 1999 on TRAPPIST-1e Tidal Lock\n",
    "#Minimun timescale range, 2.7 - 2.4 = 0.3 Gya\n",
    "((b_photon_PAR/a_photons_PAR)**(-1))*0.3*(0.44647724173641573) #Gyr, billion years"
   ]
  },
  {
   "cell_type": "code",
   "execution_count": 109,
   "metadata": {},
   "outputs": [
    {
     "data": {
      "text/plain": [
       "14.604727626287191"
      ]
     },
     "execution_count": 109,
     "metadata": {},
     "output_type": "execute_result"
    }
   ],
   "source": [
    "#cyanobacteria at surface Dobbs et al. 1999 on TRAPPIST-1e Day-Night\n",
    "#Minimun timescale range, 2.7 - 2.4 = 0.3 Gya\n",
    "((b_photon_PAR/a_photons_PAR)**(-1))*0.3*(0.44259099367446125) #Gyr, billion years"
   ]
  },
  {
   "cell_type": "code",
   "execution_count": 112,
   "metadata": {},
   "outputs": [
    {
     "data": {
      "text/plain": [
       "8.955309046211944"
      ]
     },
     "execution_count": 112,
     "metadata": {},
     "output_type": "execute_result"
    }
   ],
   "source": [
    "#cyanobacteria at 4 mm depth Dobbs et al. 1999 on TRAPPIST-1e Tidal Lock\n",
    "#Minimun timescale range, 2.7 - 2.4 = 0.3 Gya\n",
    "((b_photon_PAR/a_photons_PAR)**(-1))*0.3*(0.27138740487640617) #Gyr, billion years"
   ]
  },
  {
   "cell_type": "code",
   "execution_count": 113,
   "metadata": {},
   "outputs": [
    {
     "data": {
      "text/plain": [
       "8.829571693922519"
      ]
     },
     "execution_count": 113,
     "metadata": {},
     "output_type": "execute_result"
    }
   ],
   "source": [
    "#cyanobacteria at 4 mm depth Dobbs et al. 1999 on TRAPPIST-1e Day-Night\n",
    "#Minimun timescale range, 2.7 - 2.4 = 0.3 Gya\n",
    "((b_photon_PAR/a_photons_PAR)**(-1))*0.3*(0.2675769798472117) #Gyr, billion years"
   ]
  },
  {
   "cell_type": "markdown",
   "metadata": {},
   "source": [
    "Maximum"
   ]
  },
  {
   "cell_type": "code",
   "execution_count": 114,
   "metadata": {},
   "outputs": [
    {
     "data": {
      "text/plain": [
       "62.86065922499984"
      ]
     },
     "execution_count": 114,
     "metadata": {},
     "output_type": "execute_result"
    }
   ],
   "source": [
    "#cyanobacteria at surface Dobbs et al. 1999 on TRAPPIST-1e Tidal Lock\n",
    "#Maximum timescale range, 3.5 - 2.22 = 1.28 Gya\n",
    "((b_photon_PAR/a_photons_PAR)**(-1))*1.28*(0.44647724173641573) #Gya, billion years"
   ]
  },
  {
   "cell_type": "code",
   "execution_count": 115,
   "metadata": {},
   "outputs": [
    {
     "data": {
      "text/plain": [
       "62.313504538825356"
      ]
     },
     "execution_count": 115,
     "metadata": {},
     "output_type": "execute_result"
    }
   ],
   "source": [
    "#cyanobacteria at surface Dobbs et al. 1999 on TRAPPIST-1e Day-Night\n",
    "#Maximum timescale range, 3.5 - 2.22 = 1.28 Gya\n",
    "((b_photon_PAR/a_photons_PAR)**(-1))*1.28*(0.44259099367446125) #Gya, billion years"
   ]
  },
  {
   "cell_type": "code",
   "execution_count": 116,
   "metadata": {},
   "outputs": [
    {
     "data": {
      "text/plain": [
       "38.20931859717097"
      ]
     },
     "execution_count": 116,
     "metadata": {},
     "output_type": "execute_result"
    }
   ],
   "source": [
    "#cyanobacteria at 4 mm depth Dobbs et al. 1999 on TRAPPIST-1e Tidal Lock\n",
    "#Maximum timescale range, 3.5 - 2.22 = 1.28 Gya\n",
    "((b_photon_PAR/a_photons_PAR)**(-1))*1.28*(0.27138740487640617) #Gya, billion years"
   ]
  },
  {
   "cell_type": "code",
   "execution_count": 117,
   "metadata": {},
   "outputs": [
    {
     "data": {
      "text/plain": [
       "37.672839227402754"
      ]
     },
     "execution_count": 117,
     "metadata": {},
     "output_type": "execute_result"
    }
   ],
   "source": [
    "#cyanobacteria at 4 mm depth Dobbs et al. 1999 on TRAPPIST-1e Day-Night\n",
    "#Maximum timescale range, 3.5 - 2.22 = 1.28 Gya\n",
    "((b_photon_PAR/a_photons_PAR)**(-1))*1.28*(0.2675769798472117) #Gya, billion years"
   ]
  },
  {
   "cell_type": "markdown",
   "metadata": {},
   "source": [
    "## Considering PAR extension to 750 nm."
   ]
  },
  {
   "cell_type": "code",
   "execution_count": 118,
   "metadata": {},
   "outputs": [
    {
     "data": {
      "text/plain": [
       "35.764168255255136"
      ]
     },
     "execution_count": 118,
     "metadata": {},
     "output_type": "execute_result"
    }
   ],
   "source": [
    "#OP to GOE based on Best Guess\n",
    "((b_photon_PAR_ext/a_photons_PAR_ext)**(-1))*0.7 #Bya, billion years"
   ]
  },
  {
   "cell_type": "code",
   "execution_count": 119,
   "metadata": {},
   "outputs": [
    {
     "data": {
      "text/plain": [
       "15.32750068082363"
      ]
     },
     "execution_count": 119,
     "metadata": {},
     "output_type": "execute_result"
    }
   ],
   "source": [
    "#Minimun timescale range, 2.7 - 2.4 = 0.3 Gya\n",
    "((b_photon_PAR_ext/a_photons_PAR_ext)**(-1))*0.3"
   ]
  },
  {
   "cell_type": "code",
   "execution_count": 120,
   "metadata": {},
   "outputs": [
    {
     "data": {
      "text/plain": [
       "65.39733623818083"
      ]
     },
     "execution_count": 120,
     "metadata": {},
     "output_type": "execute_result"
    }
   ],
   "source": [
    "#Maximum timescale range, 3.5 - 2.22 = 1.28 Gya\n",
    "((b_photon_PAR_ext/a_photons_PAR_ext)**(-1))*1.28 "
   ]
  },
  {
   "cell_type": "markdown",
   "metadata": {},
   "source": [
    "**With Photoinhibtion** \n",
    "\n",
    "For the surface at air mass 1.5, Earth’s surface recieves 1.24 x 1021 photons m-2 s-1, or 2066.42 μmol m-2 s-1, in PARext. As about 73% of photons reach the surface in PARext, for TRAPPIST-1e about 2.39 x 1019 photons m-2 s-1, or 40.45 μmol m-2 s-1, are received. Assuming this is the maximum PAR photon flux on the day side only, I can apply the same method to determine the average photon flux a day-night cycle where the Earth-analog TRAPPIST-1e obtains 18.65 μmol m-2 s-1. \n",
    "\n",
    "The ratios of $\\frac{Linear Line}{PI curve}$ where the TRAPPIST-1 Surface Extended PAR intersect. \n",
    "* For surface, the photoinhibition factor is 0.45794773495679114  at 40.445 $\\mu$mol m$^{-2}$ s$^{-1}$\n",
    "* For surface, the photoinhibition factor is 0.4477975196269543 at 18.647 $\\mu$mol m$^{-2}$ s$^{-1}$\n",
    "* For 4 mm depth, the photoinhibition factor is 0.2827535773413341 at 40.445 $\\mu$mol m$^{-2}$ s$^{-1}$\n",
    "* For 4 mm depth, the photoinhibition factor is 0.2726865992277919 at 18.647 $\\mu$mol m$^{-2}$ s$^{-1}$\n",
    "\n",
    "Average"
   ]
  },
  {
   "cell_type": "code",
   "execution_count": 123,
   "metadata": {},
   "outputs": [
    {
     "data": {
      "text/plain": [
       "16.378119845107662"
      ]
     },
     "execution_count": 123,
     "metadata": {},
     "output_type": "execute_result"
    }
   ],
   "source": [
    "#cyanobacteria at surface Dobbs et al. 1999 on TRAPPIST-1e Tidal Lock\n",
    "#OP to GOE based on Best Guess\n",
    "((b_photon_PAR_ext/a_photons_PAR_ext)**(-1))*0.7*(0.45794773495679114) #Gyr, billion years"
   ]
  },
  {
   "cell_type": "code",
   "execution_count": 124,
   "metadata": {},
   "outputs": [
    {
     "data": {
      "text/plain": [
       "16.015105836224308"
      ]
     },
     "execution_count": 124,
     "metadata": {},
     "output_type": "execute_result"
    }
   ],
   "source": [
    "#cyanobacteria at surface Dobbs et al. 1999 on TRAPPIST-1e Day-Night\n",
    "#OP to GOE based on Best Guess\n",
    "((b_photon_PAR_ext/a_photons_PAR_ext)**(-1))*0.7*(0.4477975196269543) #Gyr, billion years"
   ]
  },
  {
   "cell_type": "code",
   "execution_count": 125,
   "metadata": {},
   "outputs": [
    {
     "data": {
      "text/plain": [
       "10.112446514810769"
      ]
     },
     "execution_count": 125,
     "metadata": {},
     "output_type": "execute_result"
    }
   ],
   "source": [
    "#cyanobacteria at 4 mm depth Dobbs et al. 1999 on TRAPPIST-1e Tidal Lock\n",
    "#OP to GOE based on Best Guess\n",
    "((b_photon_PAR_ext/a_photons_PAR_ext)**(-1))*0.7*(0.2827535773413341) #Gyr, billion years"
   ]
  },
  {
   "cell_type": "code",
   "execution_count": 126,
   "metadata": {},
   "outputs": [
    {
     "data": {
      "text/plain": [
       "9.752409415736075"
      ]
     },
     "execution_count": 126,
     "metadata": {},
     "output_type": "execute_result"
    }
   ],
   "source": [
    "#cyanobacteria at surface Dobbs et al. 1999 on TRAPPIST-1e Day-Night\n",
    "#OP to GOE based on Best Guess\n",
    "((b_photon_PAR_ext/a_photons_PAR_ext)**(-1))*0.7*(0.2726865992277919) #Gyr, billion years"
   ]
  },
  {
   "cell_type": "markdown",
   "metadata": {},
   "source": [
    "Minimum "
   ]
  },
  {
   "cell_type": "code",
   "execution_count": 127,
   "metadata": {},
   "outputs": [
    {
     "data": {
      "text/plain": [
       "7.0191942193318555"
      ]
     },
     "execution_count": 127,
     "metadata": {},
     "output_type": "execute_result"
    }
   ],
   "source": [
    "#cyanobacteria at surface Dobbs et al. 1999 on TRAPPIST-1e Tidal Lock\n",
    "((b_photon_PAR_ext/a_photons_PAR_ext)**(-1))*0.3*(0.45794773495679114)"
   ]
  },
  {
   "cell_type": "code",
   "execution_count": 128,
   "metadata": {},
   "outputs": [
    {
     "data": {
      "text/plain": [
       "6.8636167869532745"
      ]
     },
     "execution_count": 128,
     "metadata": {},
     "output_type": "execute_result"
    }
   ],
   "source": [
    "#cyanobacteria at surface Dobbs et al. 1999 on TRAPPIST-1e Day-Night\n",
    "((b_photon_PAR_ext/a_photons_PAR_ext)**(-1))*0.3*(0.4477975196269543)"
   ]
  },
  {
   "cell_type": "code",
   "execution_count": 129,
   "metadata": {},
   "outputs": [
    {
     "data": {
      "text/plain": [
       "4.333905649204615"
      ]
     },
     "execution_count": 129,
     "metadata": {},
     "output_type": "execute_result"
    }
   ],
   "source": [
    "#cyanobacteria at 4 mm depth Dobbs et al. 1999 on TRAPPIST-1e Tidal Lock\n",
    "((b_photon_PAR_ext/a_photons_PAR_ext)**(-1))*0.3*(0.2827535773413341)"
   ]
  },
  {
   "cell_type": "code",
   "execution_count": 130,
   "metadata": {},
   "outputs": [
    {
     "data": {
      "text/plain": [
       "4.179604035315461"
      ]
     },
     "execution_count": 130,
     "metadata": {},
     "output_type": "execute_result"
    }
   ],
   "source": [
    "#cyanobacteria at 4 mm depth Dobbs et al. 1999 on TRAPPIST-1e Day-Night\n",
    "((b_photon_PAR_ext/a_photons_PAR_ext)**(-1))*0.3*(0.2726865992277919)"
   ]
  },
  {
   "cell_type": "markdown",
   "metadata": {},
   "source": [
    "Maximum"
   ]
  },
  {
   "cell_type": "code",
   "execution_count": 131,
   "metadata": {},
   "outputs": [
    {
     "data": {
      "text/plain": [
       "29.948562002482586"
      ]
     },
     "execution_count": 131,
     "metadata": {},
     "output_type": "execute_result"
    }
   ],
   "source": [
    "#cyanobacteria at surface Dobbs et al. 1999 on TRAPPIST-1e Tidal Lock\n",
    "#Maximum timescale range, 3.5 - 2.22 = 1.28 Gya\n",
    "((b_photon_PAR_ext/a_photons_PAR_ext)**(-1))*1.28*(0.45794773495679114)"
   ]
  },
  {
   "cell_type": "code",
   "execution_count": 132,
   "metadata": {},
   "outputs": [
    {
     "data": {
      "text/plain": [
       "29.28476495766731"
      ]
     },
     "execution_count": 132,
     "metadata": {},
     "output_type": "execute_result"
    }
   ],
   "source": [
    "#cyanobacteria at surface Dobbs et al. 1999 on TRAPPIST-1e Day-Night\n",
    "#Maximum timescale range, 3.5 - 2.22 = 1.28 Gya\n",
    "((b_photon_PAR_ext/a_photons_PAR_ext)**(-1))*1.28*(0.4477975196269543)"
   ]
  },
  {
   "cell_type": "code",
   "execution_count": 133,
   "metadata": {},
   "outputs": [
    {
     "data": {
      "text/plain": [
       "18.491330769939694"
      ]
     },
     "execution_count": 133,
     "metadata": {},
     "output_type": "execute_result"
    }
   ],
   "source": [
    "#cyanobacteria at 4 mm depth Dobbs et al. 1999 on TRAPPIST-1e Tidal Lock\n",
    "#Maximum timescale range, 3.5 - 2.22 = 1.28 Gya\n",
    "((b_photon_PAR_ext/a_photons_PAR_ext)**(-1))*1.28*(0.2827535773413341)"
   ]
  },
  {
   "cell_type": "code",
   "execution_count": 134,
   "metadata": {},
   "outputs": [
    {
     "data": {
      "text/plain": [
       "17.83297721734597"
      ]
     },
     "execution_count": 134,
     "metadata": {},
     "output_type": "execute_result"
    }
   ],
   "source": [
    "#cyanobacteria at 4 mm depth Dobbs et al. 1999 on TRAPPIST-1e Day-Night\n",
    "#Maximum timescale range, 3.5 - 2.22 = 1.28 Gya\n",
    "((b_photon_PAR_ext/a_photons_PAR_ext)**(-1))*1.28*(0.2726865992277919)"
   ]
  },
  {
   "cell_type": "markdown",
   "metadata": {},
   "source": [
    "After the Great Oxidation Event, there is a large gap of how low it took for life on Earth to reach a threshold of 10% oxygen in the atmosphere as eukoryotes (complex, multicellular life) began to evolve. The grand diversification of macro-organisms first occurred in the Cambrian Explosion at approximately 540 million years ago. Here I will calculate how long it would take to reach a Cambrian Explosion after a GOE event based on the three time stamps I have chosen. As well as how much time has passed from origin of OP to Cambrian Explosion.\n",
    "\n",
    "GOE to Cambrian Explosion\n",
    "<br> Minimum: GOE_min - CE = 2.22 - 0.540  = 1.68 Gya\n",
    "\n",
    "<br> Maximum: GOE_max - CE = 2.4 - 0.540 = 1.860 Gya\n",
    "\n",
    "<br> Best guess: GOE_guess - CE = 2.3 - 0.540  = 1.76 Gya\n",
    "\n",
    "\n",
    "OP to Cambrian Explosion\n",
    "\n",
    "<br> Minimum:  OP_min - CE = 2.7 - 0.540 = 2.16 Gya\n",
    "\n",
    "<br> Maximum: OP_max - CE = 3.5 - 0.540 = 2.96 Gya \n",
    "\n",
    "<br> Best guess: OP_guess - CE = 3.0 - 0.540 = 2.46 Gya\n",
    "\n",
    "**Including the Photoinhition Ratio Parameters**\n",
    "\n",
    "For PAR (400-700 nm)\n",
    "* For surface, the photoinhibition factor is 0.44647724173641573 at 15.775 $\\mu$mol m$^{-2}$ s$^{-1}$\n",
    "* For surface, the photoinhibition factor is 0.44259099367446125 at 7.273 $\\mu$mol m$^{-2}$ s$^{-1}$\n",
    "* For 4 mm depth, the photoinhibition factor is 0.27138740487640617 at 15.775 $\\mu$mol m$^{-2}$ s$^{-1}$\n",
    "* For 4 mm depth, the photoinhibition factor is 0.2675769798472117 at 7.273 $\\mu$mol m$^{-2}$ s$^{-1}$"
   ]
  },
  {
   "cell_type": "markdown",
   "metadata": {},
   "source": [
    "Average"
   ]
  },
  {
   "cell_type": "code",
   "execution_count": 135,
   "metadata": {},
   "outputs": [
    {
     "data": {
      "text/plain": [
       "193.58972497281727"
      ]
     },
     "execution_count": 135,
     "metadata": {},
     "output_type": "execute_result"
    }
   ],
   "source": [
    "#Without Photoinhibition\n",
    "#Best Guess, GOE to CE\n",
    "((b_photon_PAR/a_photons_PAR)**(-1))*1.76 #Gyr, billion years"
   ]
  },
  {
   "cell_type": "code",
   "execution_count": 174,
   "metadata": {},
   "outputs": [
    {
     "data": {
      "text/plain": [
       "86.43340643437477"
      ]
     },
     "execution_count": 174,
     "metadata": {},
     "output_type": "execute_result"
    }
   ],
   "source": [
    "#cyanobacteria at surface Dobbs et al. 1999 on TRAPPIST-1e Tidal Lock\n",
    "#Best Guess, GOE to CE\n",
    "((b_photon_PAR/a_photons_PAR)**(-1))*1.76*(0.44647724173641573) #Gyr, billion years"
   ]
  },
  {
   "cell_type": "code",
   "execution_count": 175,
   "metadata": {},
   "outputs": [
    {
     "data": {
      "text/plain": [
       "85.68106874088485"
      ]
     },
     "execution_count": 175,
     "metadata": {},
     "output_type": "execute_result"
    }
   ],
   "source": [
    "#cyanobacteria at surface Dobbs et al. 1999 on TRAPPIST-1e Day-Night\n",
    "#Best Guess, GOE to CE\n",
    "((b_photon_PAR/a_photons_PAR)**(-1))*1.76*(0.44259099367446125) #Gyr, billion years"
   ]
  },
  {
   "cell_type": "code",
   "execution_count": 176,
   "metadata": {},
   "outputs": [
    {
     "data": {
      "text/plain": [
       "52.53781307111008"
      ]
     },
     "execution_count": 176,
     "metadata": {},
     "output_type": "execute_result"
    }
   ],
   "source": [
    "#cyanobacteria at 4 mm depth Dobbs et al. 1999 on TRAPPIST-1e Tidal Lock\n",
    "#Best Guess, GOE to CE\n",
    "((b_photon_PAR/a_photons_PAR)**(-1))*1.76*(0.27138740487640617) #Gyr, billion years"
   ]
  },
  {
   "cell_type": "code",
   "execution_count": 177,
   "metadata": {},
   "outputs": [
    {
     "data": {
      "text/plain": [
       "51.80015393767878"
      ]
     },
     "execution_count": 177,
     "metadata": {},
     "output_type": "execute_result"
    }
   ],
   "source": [
    "#cyanobacteria at 4 mm depth Dobbs et al. 1999 on TRAPPIST-1e Day-Night\n",
    "#Best Guess, GOE to CE\n",
    "((b_photon_PAR/a_photons_PAR)**(-1))*1.76*(0.2675769798472117) #Gyr, billion years"
   ]
  },
  {
   "cell_type": "code",
   "execution_count": 178,
   "metadata": {},
   "outputs": [
    {
     "data": {
      "text/plain": [
       "270.58563831427864"
      ]
     },
     "execution_count": 178,
     "metadata": {},
     "output_type": "execute_result"
    }
   ],
   "source": [
    "#Without Photoinhibition\n",
    "#Best guess, OP to CE\n",
    "((b_photon_PAR/a_photons_PAR)**(-1))*2.46"
   ]
  },
  {
   "cell_type": "code",
   "execution_count": 179,
   "metadata": {},
   "outputs": [
    {
     "data": {
      "text/plain": [
       "120.81032944804655"
      ]
     },
     "execution_count": 179,
     "metadata": {},
     "output_type": "execute_result"
    }
   ],
   "source": [
    "#cyanobacteria at surface Dobbs et al. 1999 on TRAPPIST-1e Tidal Lock\n",
    "#Best guess, OP to CE\n",
    "((b_photon_PAR/a_photons_PAR)**(-1))*2.46*(0.44647724173641573) #Gyr, billion years"
   ]
  },
  {
   "cell_type": "code",
   "execution_count": 180,
   "metadata": {},
   "outputs": [
    {
     "data": {
      "text/plain": [
       "119.75876653555495"
      ]
     },
     "execution_count": 180,
     "metadata": {},
     "output_type": "execute_result"
    }
   ],
   "source": [
    "#cyanobacteria at surface Dobbs et al. 1999 on TRAPPIST-1e Day-Night\n",
    "#Best guess, OP to CE\n",
    "((b_photon_PAR/a_photons_PAR)**(-1))*2.46*(0.44259099367446125) #Gyr, billion years"
   ]
  },
  {
   "cell_type": "code",
   "execution_count": 181,
   "metadata": {},
   "outputs": [
    {
     "data": {
      "text/plain": [
       "73.43353417893793"
      ]
     },
     "execution_count": 181,
     "metadata": {},
     "output_type": "execute_result"
    }
   ],
   "source": [
    "#cyanobacteria at 4 mm depth Dobbs et al. 1999 on TRAPPIST-1e Tidal Lock\n",
    "#Best guess, OP to CE\n",
    "((b_photon_PAR/a_photons_PAR)**(-1))*2.46*(0.27138740487640617) #Gyr, billion years"
   ]
  },
  {
   "cell_type": "code",
   "execution_count": 182,
   "metadata": {},
   "outputs": [
    {
     "data": {
      "text/plain": [
       "72.40248789016465"
      ]
     },
     "execution_count": 182,
     "metadata": {},
     "output_type": "execute_result"
    }
   ],
   "source": [
    "#cyanobacteria at 4 mm depth Dobbs et al. 1999 on TRAPPIST-1e Day-Night\n",
    "#Best guess, OP to CE\n",
    "((b_photon_PAR/a_photons_PAR)**(-1))*2.46*(0.2675769798472117) #Gyr, billion years"
   ]
  },
  {
   "cell_type": "markdown",
   "metadata": {},
   "source": [
    "Minimum"
   ]
  },
  {
   "cell_type": "code",
   "execution_count": 183,
   "metadata": {},
   "outputs": [
    {
     "data": {
      "text/plain": [
       "184.79019201950737"
      ]
     },
     "execution_count": 183,
     "metadata": {},
     "output_type": "execute_result"
    }
   ],
   "source": [
    "#Without Photoinhibition\n",
    "#Minimum GOE to CE\n",
    "((b_photon_PAR/a_photons_PAR)**(-1))*1.68"
   ]
  },
  {
   "cell_type": "code",
   "execution_count": 184,
   "metadata": {},
   "outputs": [
    {
     "data": {
      "text/plain": [
       "82.50461523281227"
      ]
     },
     "execution_count": 184,
     "metadata": {},
     "output_type": "execute_result"
    }
   ],
   "source": [
    "#cyanobacteria at surface Dobbs et al. 1999 on TRAPPIST-1e Tidal Lock\n",
    "#Minimum GOE to CE\n",
    "((b_photon_PAR/a_photons_PAR)**(-1))*1.68*(0.44647724173641573)"
   ]
  },
  {
   "cell_type": "code",
   "execution_count": 185,
   "metadata": {},
   "outputs": [
    {
     "data": {
      "text/plain": [
       "81.78647470720827"
      ]
     },
     "execution_count": 185,
     "metadata": {},
     "output_type": "execute_result"
    }
   ],
   "source": [
    "#cyanobacteria at surface Dobbs et al. 1999 on TRAPPIST-1e Day-Night\n",
    "#Minimum GOE to CE\n",
    "((b_photon_PAR/a_photons_PAR)**(-1))*1.68*(0.44259099367446125)"
   ]
  },
  {
   "cell_type": "code",
   "execution_count": 186,
   "metadata": {},
   "outputs": [
    {
     "data": {
      "text/plain": [
       "50.149730658786886"
      ]
     },
     "execution_count": 186,
     "metadata": {},
     "output_type": "execute_result"
    }
   ],
   "source": [
    "#cyanobacteria at 4 mm depth Dobbs et al. 1999 on TRAPPIST-1e Tidal Lock\n",
    "#Minimum GOE to CE\n",
    "((b_photon_PAR/a_photons_PAR)**(-1))*1.68*(0.27138740487640617)"
   ]
  },
  {
   "cell_type": "code",
   "execution_count": 187,
   "metadata": {},
   "outputs": [
    {
     "data": {
      "text/plain": [
       "49.4456014859661"
      ]
     },
     "execution_count": 187,
     "metadata": {},
     "output_type": "execute_result"
    }
   ],
   "source": [
    "#cyanobacteria at 4 mm depth Dobbs et al. 1999 on TRAPPIST-1e Day-Night\n",
    "#Minimum GOE to CE\n",
    "((b_photon_PAR/a_photons_PAR)**(-1))*1.68*(0.2675769798472117)"
   ]
  },
  {
   "cell_type": "code",
   "execution_count": 188,
   "metadata": {},
   "outputs": [
    {
     "data": {
      "text/plain": [
       "237.58738973936664"
      ]
     },
     "execution_count": 188,
     "metadata": {},
     "output_type": "execute_result"
    }
   ],
   "source": [
    "\n",
    "#Without Photoinhibition\n",
    "#Minimum OP to CE\n",
    "((b_photon_PAR/a_photons_PAR)**(-1))*2.16"
   ]
  },
  {
   "cell_type": "code",
   "execution_count": 189,
   "metadata": {},
   "outputs": [
    {
     "data": {
      "text/plain": [
       "106.07736244218722"
      ]
     },
     "execution_count": 189,
     "metadata": {},
     "output_type": "execute_result"
    }
   ],
   "source": [
    "#cyanobacteria at surface Dobbs et al. 1999 on TRAPPIST-1e Tidal Lock\n",
    "#Minimum OP to CE\n",
    "((b_photon_PAR/a_photons_PAR)**(-1))*2.16*(0.44647724173641573)"
   ]
  },
  {
   "cell_type": "code",
   "execution_count": 190,
   "metadata": {},
   "outputs": [
    {
     "data": {
      "text/plain": [
       "105.15403890926778"
      ]
     },
     "execution_count": 190,
     "metadata": {},
     "output_type": "execute_result"
    }
   ],
   "source": [
    "#cyanobacteria at surface Dobbs et al. 1999 on TRAPPIST-1e Day-Night\n",
    "#Minimum OP to CE\n",
    "((b_photon_PAR/a_photons_PAR)**(-1))*2.16*(0.44259099367446125)"
   ]
  },
  {
   "cell_type": "code",
   "execution_count": 191,
   "metadata": {},
   "outputs": [
    {
     "data": {
      "text/plain": [
       "64.47822513272601"
      ]
     },
     "execution_count": 191,
     "metadata": {},
     "output_type": "execute_result"
    }
   ],
   "source": [
    "#cyanobacteria at 4 mm depth Dobbs et al. 1999 on TRAPPIST-1e Tidal Lock\n",
    "#Minimum OP to CE\n",
    "((b_photon_PAR/a_photons_PAR)**(-1))*2.16*(0.27138740487640617)"
   ]
  },
  {
   "cell_type": "code",
   "execution_count": 192,
   "metadata": {},
   "outputs": [
    {
     "data": {
      "text/plain": [
       "63.57291619624213"
      ]
     },
     "execution_count": 192,
     "metadata": {},
     "output_type": "execute_result"
    }
   ],
   "source": [
    "#cyanobacteria at 4 mm depth Dobbs et al. 1999 on TRAPPIST-1e Day Night\n",
    "#Minimum OP to CE\n",
    "((b_photon_PAR/a_photons_PAR)**(-1))*2.16*(0.2675769798472117)"
   ]
  },
  {
   "cell_type": "markdown",
   "metadata": {},
   "source": [
    "Maximum"
   ]
  },
  {
   "cell_type": "code",
   "execution_count": 193,
   "metadata": {},
   "outputs": [
    {
     "data": {
      "text/plain": [
       "204.58914116445462"
      ]
     },
     "execution_count": 193,
     "metadata": {},
     "output_type": "execute_result"
    }
   ],
   "source": [
    "#Without Photoinhibition\n",
    "#Maximum GOE to CE\n",
    "((b_photon_PAR/a_photons_PAR)**(-1))*1.86"
   ]
  },
  {
   "cell_type": "code",
   "execution_count": 194,
   "metadata": {},
   "outputs": [
    {
     "data": {
      "text/plain": [
       "91.34439543632789"
      ]
     },
     "execution_count": 194,
     "metadata": {},
     "output_type": "execute_result"
    }
   ],
   "source": [
    "#cyanobacteria at surface Dobbs et al. 1999 on TRAPPIST-1e Tidal Lock\n",
    "#Maximum GOE to CE\n",
    "((b_photon_PAR/a_photons_PAR)**(-1))*1.86*(0.44647724173641573)"
   ]
  },
  {
   "cell_type": "code",
   "execution_count": 195,
   "metadata": {},
   "outputs": [
    {
     "data": {
      "text/plain": [
       "90.5493112829806"
      ]
     },
     "execution_count": 195,
     "metadata": {},
     "output_type": "execute_result"
    }
   ],
   "source": [
    "#cyanobacteria at surface Dobbs et al. 1999 on TRAPPIST-1e Day Night\n",
    "#Maximum GOE to CE\n",
    "((b_photon_PAR/a_photons_PAR)**(-1))*1.86*(0.44259099367446125)"
   ]
  },
  {
   "cell_type": "code",
   "execution_count": 196,
   "metadata": {},
   "outputs": [
    {
     "data": {
      "text/plain": [
       "55.52291608651406"
      ]
     },
     "execution_count": 196,
     "metadata": {},
     "output_type": "execute_result"
    }
   ],
   "source": [
    "#cyanobacteria at 4 mm depth Dobbs et al. 1999 on TRAPPIST-1e Tidal Lock\n",
    "#Maximum GOE to CE\n",
    "((b_photon_PAR/a_photons_PAR)**(-1))*1.86*(0.27138740487640617)"
   ]
  },
  {
   "cell_type": "code",
   "execution_count": 197,
   "metadata": {},
   "outputs": [
    {
     "data": {
      "text/plain": [
       "54.743344502319616"
      ]
     },
     "execution_count": 197,
     "metadata": {},
     "output_type": "execute_result"
    }
   ],
   "source": [
    "#cyanobacteria at 4 mm depth Dobbs et al. 1999 on TRAPPIST-1e Day Night\n",
    "#Maximum GOE to CE\n",
    "((b_photon_PAR/a_photons_PAR)**(-1))*1.86*(0.2675769798472117)"
   ]
  },
  {
   "cell_type": "code",
   "execution_count": 198,
   "metadata": {},
   "outputs": [
    {
     "data": {
      "text/plain": [
       "325.5827192724654"
      ]
     },
     "execution_count": 198,
     "metadata": {},
     "output_type": "execute_result"
    }
   ],
   "source": [
    "#Without Photoinhibition\n",
    "#Maximum OP to CE\n",
    "((b_photon_PAR/a_photons_PAR)**(-1))*2.96"
   ]
  },
  {
   "cell_type": "code",
   "execution_count": 199,
   "metadata": {},
   "outputs": [
    {
     "data": {
      "text/plain": [
       "145.36527445781212"
      ]
     },
     "execution_count": 199,
     "metadata": {},
     "output_type": "execute_result"
    }
   ],
   "source": [
    "#cyanobacteria at surface Dobbs et al. 1999 on TRAPPIST-1e Tidal Lock\n",
    "#Maximum OP to CE\n",
    "((b_photon_PAR/a_photons_PAR)**(-1))*2.96*(0.44647724173641573)"
   ]
  },
  {
   "cell_type": "code",
   "execution_count": 200,
   "metadata": {},
   "outputs": [
    {
     "data": {
      "text/plain": [
       "144.09997924603363"
      ]
     },
     "execution_count": 200,
     "metadata": {},
     "output_type": "execute_result"
    }
   ],
   "source": [
    "#cyanobacteria at surface Dobbs et al. 1999 on TRAPPIST-1e Day Night\n",
    "#Maximum OP to CE\n",
    "((b_photon_PAR/a_photons_PAR)**(-1))*2.96*(0.44259099367446125)"
   ]
  },
  {
   "cell_type": "code",
   "execution_count": 201,
   "metadata": {},
   "outputs": [
    {
     "data": {
      "text/plain": [
       "88.35904925595786"
      ]
     },
     "execution_count": 201,
     "metadata": {},
     "output_type": "execute_result"
    }
   ],
   "source": [
    "#cyanobacteria at 4 mm depth Dobbs et al. 1999 on TRAPPIST-1e Tidal Lock\n",
    "#Maximum OP to CE\n",
    "((b_photon_PAR/a_photons_PAR)**(-1))*2.96*(0.27138740487640617)"
   ]
  },
  {
   "cell_type": "code",
   "execution_count": 202,
   "metadata": {},
   "outputs": [
    {
     "data": {
      "text/plain": [
       "87.11844071336886"
      ]
     },
     "execution_count": 202,
     "metadata": {},
     "output_type": "execute_result"
    }
   ],
   "source": [
    "#cyanobacteria at 4 mm depth Dobbs et al. 1999 on TRAPPIST-1e Day Night\n",
    "#Maximum OP to CE\n",
    "((b_photon_PAR/a_photons_PAR)**(-1))*2.96*(0.2675769798472117)"
   ]
  },
  {
   "cell_type": "markdown",
   "metadata": {},
   "source": [
    "**Now consider the extensions of PAR to 750 nm.**\n",
    "\n",
    "* For surface, the photoinhibition factor is 0.45794773495679114  at 40.445 $\\mu$mol m$^{-2}$ s$^{-1}$\n",
    "* For surface, the photoinhibition factor is 0.4477975196269543 at 18.647 $\\mu$mol m$^{-2}$ s$^{-1}$\n",
    "* For 4 mm depth, the photoinhibition factor is 0.2827535773413341 at 40.445 $\\mu$mol m$^{-2}$ s$^{-1}$\n",
    "* For 4 mm depth, the photoinhibition factor is 0.2726865992277919 at 18.647 $\\mu$mol m$^{-2}$ s$^{-1}$\n"
   ]
  },
  {
   "cell_type": "code",
   "execution_count": 203,
   "metadata": {},
   "outputs": [
    {
     "data": {
      "text/plain": [
       "0.009091391602767807"
      ]
     },
     "execution_count": 203,
     "metadata": {},
     "output_type": "execute_result"
    }
   ],
   "source": [
    "b_photon_PAR/a_photons_PAR"
   ]
  },
  {
   "cell_type": "code",
   "execution_count": 204,
   "metadata": {},
   "outputs": [
    {
     "data": {
      "text/plain": [
       "0.01957266264390597"
      ]
     },
     "execution_count": 204,
     "metadata": {},
     "output_type": "execute_result"
    }
   ],
   "source": [
    "b_photon_PAR_ext/a_photons_PAR_ext"
   ]
  },
  {
   "cell_type": "markdown",
   "metadata": {},
   "source": [
    "Average"
   ]
  },
  {
   "cell_type": "code",
   "execution_count": 205,
   "metadata": {},
   "outputs": [
    {
     "data": {
      "text/plain": [
       "89.92133732749863"
      ]
     },
     "execution_count": 205,
     "metadata": {},
     "output_type": "execute_result"
    }
   ],
   "source": [
    "#Without Photoinhibition\n",
    "#Best Guess, GOE to CE\n",
    "((b_photon_PAR_ext/a_photons_PAR_ext)**(-1))*1.76 #Gyr, billion years"
   ]
  },
  {
   "cell_type": "code",
   "execution_count": 206,
   "metadata": {},
   "outputs": [
    {
     "data": {
      "text/plain": [
       "41.17927275341356"
      ]
     },
     "execution_count": 206,
     "metadata": {},
     "output_type": "execute_result"
    }
   ],
   "source": [
    "#cyanobacteria at surface Dobbs et al. 1999 on TRAPPIST-1e Tidal Lock\n",
    "#Best Guess, GOE to CE\n",
    "((b_photon_PAR_ext/a_photons_PAR_ext)**(-1))*(1.76)*(0.45794773495679114) #Gyr, billion years"
   ]
  },
  {
   "cell_type": "code",
   "execution_count": 207,
   "metadata": {},
   "outputs": [
    {
     "data": {
      "text/plain": [
       "40.26655181679255"
      ]
     },
     "execution_count": 207,
     "metadata": {},
     "output_type": "execute_result"
    }
   ],
   "source": [
    "#cyanobacteria at surface Dobbs et al. 1999 on TRAPPIST-1e Day Night\n",
    "#Best Guess, GOE to CE\n",
    "((b_photon_PAR_ext/a_photons_PAR_ext)**(-1))*(1.76)*(0.4477975196269543) #Gyr, billion years"
   ]
  },
  {
   "cell_type": "code",
   "execution_count": 208,
   "metadata": {},
   "outputs": [
    {
     "data": {
      "text/plain": [
       "25.425579808667077"
      ]
     },
     "execution_count": 208,
     "metadata": {},
     "output_type": "execute_result"
    }
   ],
   "source": [
    "#cyanobacteria at 4 mm depth Dobbs et al. 1999 on TRAPPIST-1e Tidal Lock\n",
    "#Best Guess, GOE to CE\n",
    "((b_photon_PAR_ext/a_photons_PAR_ext)**(-1))*(1.76)*(0.2827535773413341) #Gyr, billion years"
   ]
  },
  {
   "cell_type": "code",
   "execution_count": 209,
   "metadata": {},
   "outputs": [
    {
     "data": {
      "text/plain": [
       "24.520343673850707"
      ]
     },
     "execution_count": 209,
     "metadata": {},
     "output_type": "execute_result"
    }
   ],
   "source": [
    "#cyanobacteria at 4 mm depth Dobbs et al. 1999 on TRAPPIST-1e Day Night\n",
    "#Best Guess, GOE to CE\n",
    "((b_photon_PAR_ext/a_photons_PAR_ext)**(-1))*(1.76)*(0.2726865992277919) #Gyr, billion years"
   ]
  },
  {
   "cell_type": "code",
   "execution_count": 210,
   "metadata": {},
   "outputs": [
    {
     "data": {
      "text/plain": [
       "125.68550558275376"
      ]
     },
     "execution_count": 210,
     "metadata": {},
     "output_type": "execute_result"
    }
   ],
   "source": [
    "#Without Photoinhibition\n",
    "# OP to CE\n",
    "((b_photon_PAR_ext/a_photons_PAR_ext)**(-1))*2.46 "
   ]
  },
  {
   "cell_type": "code",
   "execution_count": 245,
   "metadata": {},
   "outputs": [
    {
     "data": {
      "text/plain": [
       "57.55739259852121"
      ]
     },
     "execution_count": 245,
     "metadata": {},
     "output_type": "execute_result"
    }
   ],
   "source": [
    "#cyanobacteria at surface Dobbs et al. 1999 on TRAPPIST-1e Tidal Lock\n",
    "# OP to CE\n",
    "((b_photon_PAR_ext/a_photons_PAR_ext)**(-1))*(2.46)*(0.45794773495679114)"
   ]
  },
  {
   "cell_type": "code",
   "execution_count": 246,
   "metadata": {},
   "outputs": [
    {
     "data": {
      "text/plain": [
       "56.28165765301685"
      ]
     },
     "execution_count": 246,
     "metadata": {},
     "output_type": "execute_result"
    }
   ],
   "source": [
    "#cyanobacteria at surface Dobbs et al. 1999 on TRAPPIST-1e Day Night\n",
    "# OP to CE\n",
    "((b_photon_PAR_ext/a_photons_PAR_ext)**(-1))*(2.46)*(0.4477975196269543)"
   ]
  },
  {
   "cell_type": "code",
   "execution_count": 218,
   "metadata": {},
   "outputs": [
    {
     "data": {
      "text/plain": [
       "35.538026323477844"
      ]
     },
     "execution_count": 218,
     "metadata": {},
     "output_type": "execute_result"
    }
   ],
   "source": [
    "#cyanobacteria at 4 mm depth Dobbs et al. 1999 on TRAPPIST-1e Tidal Lock\n",
    "# OP to CE\n",
    "((b_photon_PAR_ext/a_photons_PAR_ext)**(-1))*2.46*(0.2827535773413341)"
   ]
  },
  {
   "cell_type": "code",
   "execution_count": 219,
   "metadata": {},
   "outputs": [
    {
     "data": {
      "text/plain": [
       "34.27275308958678"
      ]
     },
     "execution_count": 219,
     "metadata": {},
     "output_type": "execute_result"
    }
   ],
   "source": [
    "#cyanobacteria at 4 mm depth Dobbs et al. 1999 on TRAPPIST-1e Day Night\n",
    "# OP to CE\n",
    "((b_photon_PAR_ext/a_photons_PAR_ext)**(-1))*2.46*(0.2726865992277919)"
   ]
  },
  {
   "cell_type": "markdown",
   "metadata": {},
   "source": [
    "Minimum"
   ]
  },
  {
   "cell_type": "code",
   "execution_count": 220,
   "metadata": {},
   "outputs": [
    {
     "data": {
      "text/plain": [
       "85.83400381261232"
      ]
     },
     "execution_count": 220,
     "metadata": {},
     "output_type": "execute_result"
    }
   ],
   "source": [
    "#Without Photoinhibition\n",
    "#Minimum GOE to CE\n",
    "((b_photon_PAR_ext/a_photons_PAR_ext)**(-1))*1.68"
   ]
  },
  {
   "cell_type": "code",
   "execution_count": 221,
   "metadata": {},
   "outputs": [
    {
     "data": {
      "text/plain": [
       "39.307487628258386"
      ]
     },
     "execution_count": 221,
     "metadata": {},
     "output_type": "execute_result"
    }
   ],
   "source": [
    "#cyanobacteria at surface Dobbs et al. 1999 on TRAPPIST-1e Tidal Lock\n",
    "#Minimum GOE to CE\n",
    "((b_photon_PAR_ext/a_photons_PAR_ext)**(-1))*1.68*(0.45794773495679114)"
   ]
  },
  {
   "cell_type": "code",
   "execution_count": 222,
   "metadata": {},
   "outputs": [
    {
     "data": {
      "text/plain": [
       "38.436254006938334"
      ]
     },
     "execution_count": 222,
     "metadata": {},
     "output_type": "execute_result"
    }
   ],
   "source": [
    "#cyanobacteria at surface Dobbs et al. 1999 on TRAPPIST-1e Day Night\n",
    "#Minimum GOE to CE\n",
    "((b_photon_PAR_ext/a_photons_PAR_ext)**(-1))*1.68*(0.4477975196269543)"
   ]
  },
  {
   "cell_type": "code",
   "execution_count": 223,
   "metadata": {},
   "outputs": [
    {
     "data": {
      "text/plain": [
       "24.269871635545844"
      ]
     },
     "execution_count": 223,
     "metadata": {},
     "output_type": "execute_result"
    }
   ],
   "source": [
    "#cyanobacteria at 4 mm depth Dobbs et al. 1999 on TRAPPIST-1e Tidal Lock\n",
    "#Minimum GOE to CE\n",
    "((b_photon_PAR_ext/a_photons_PAR_ext)**(-1))*1.68*(0.2827535773413341)"
   ]
  },
  {
   "cell_type": "code",
   "execution_count": 224,
   "metadata": {},
   "outputs": [
    {
     "data": {
      "text/plain": [
       "23.40578259776658"
      ]
     },
     "execution_count": 224,
     "metadata": {},
     "output_type": "execute_result"
    }
   ],
   "source": [
    "#cyanobacteria at 4 mm depth Dobbs et al. 1999 on TRAPPIST-1e Day Night\n",
    "#Minimum GOE to CE\n",
    "((b_photon_PAR_ext/a_photons_PAR_ext)**(-1))*1.68*(0.2726865992277919)"
   ]
  },
  {
   "cell_type": "code",
   "execution_count": 247,
   "metadata": {},
   "outputs": [
    {
     "data": {
      "text/plain": [
       "110.35800490193014"
      ]
     },
     "execution_count": 247,
     "metadata": {},
     "output_type": "execute_result"
    }
   ],
   "source": [
    "#Without Photoinhibition\n",
    "#Minimum OP to CE\n",
    "((b_photon_PAR_ext/a_photons_PAR_ext)**(-1))*2.16"
   ]
  },
  {
   "cell_type": "code",
   "execution_count": 229,
   "metadata": {},
   "outputs": [
    {
     "data": {
      "text/plain": [
       "50.53819837918936"
      ]
     },
     "execution_count": 229,
     "metadata": {},
     "output_type": "execute_result"
    }
   ],
   "source": [
    "#cyanobacteria at surface Dobbs et al. 1999 on TRAPPIST-1e Tidal Lock\n",
    "#Minimum OP to CE\n",
    "((b_photon_PAR_ext/a_photons_PAR_ext)**(-1))*2.16*(0.45794773495679114)"
   ]
  },
  {
   "cell_type": "code",
   "execution_count": 230,
   "metadata": {},
   "outputs": [
    {
     "data": {
      "text/plain": [
       "49.418040866063585"
      ]
     },
     "execution_count": 230,
     "metadata": {},
     "output_type": "execute_result"
    }
   ],
   "source": [
    "#cyanobacteria at surface Dobbs et al. 1999 on TRAPPIST-1e Day Night\n",
    "#Minimum OP to CE\n",
    "((b_photon_PAR_ext/a_photons_PAR_ext)**(-1))*2.16*(0.4477975196269543)"
   ]
  },
  {
   "cell_type": "code",
   "execution_count": 231,
   "metadata": {},
   "outputs": [
    {
     "data": {
      "text/plain": [
       "31.204120674273234"
      ]
     },
     "execution_count": 231,
     "metadata": {},
     "output_type": "execute_result"
    }
   ],
   "source": [
    "#cyanobacteria at 4 mm depth Dobbs et al. 1999 on TRAPPIST-1e Tidal Lock\n",
    "#Minimum OP to CE\n",
    "((b_photon_PAR_ext/a_photons_PAR_ext)**(-1))*2.16*(0.2827535773413341)"
   ]
  },
  {
   "cell_type": "code",
   "execution_count": 232,
   "metadata": {},
   "outputs": [
    {
     "data": {
      "text/plain": [
       "30.093149054271322"
      ]
     },
     "execution_count": 232,
     "metadata": {},
     "output_type": "execute_result"
    }
   ],
   "source": [
    "#cyanobacteria at 4 mm depth Dobbs et al. 1999 on TRAPPIST-1e Day Night\n",
    "#Minimum OP to CE\n",
    "((b_photon_PAR_ext/a_photons_PAR_ext)**(-1))*2.16*(0.2726865992277919)"
   ]
  },
  {
   "cell_type": "markdown",
   "metadata": {},
   "source": [
    "Maximum"
   ]
  },
  {
   "cell_type": "code",
   "execution_count": 249,
   "metadata": {},
   "outputs": [
    {
     "data": {
      "text/plain": [
       "95.03050422110651"
      ]
     },
     "execution_count": 249,
     "metadata": {},
     "output_type": "execute_result"
    }
   ],
   "source": [
    "#Without Photoinhibition\n",
    "#Maximum GOE to CE\n",
    "((b_photon_PAR_ext/a_photons_PAR_ext)**(-1))*1.86"
   ]
  },
  {
   "cell_type": "code",
   "execution_count": 236,
   "metadata": {},
   "outputs": [
    {
     "data": {
      "text/plain": [
       "43.51900415985751"
      ]
     },
     "execution_count": 236,
     "metadata": {},
     "output_type": "execute_result"
    }
   ],
   "source": [
    "#cyanobacteria at surface Dobbs et al. 1999 on TRAPPIST-1e Tidal Lock\n",
    "#Maximum GOE to CE\n",
    "((b_photon_PAR_ext/a_photons_PAR_ext)**(-1))*1.86*(0.45794773495679114)"
   ]
  },
  {
   "cell_type": "code",
   "execution_count": 237,
   "metadata": {},
   "outputs": [
    {
     "data": {
      "text/plain": [
       "42.554424079110305"
      ]
     },
     "execution_count": 237,
     "metadata": {},
     "output_type": "execute_result"
    }
   ],
   "source": [
    "#cyanobacteria at surface Dobbs et al. 1999 on TRAPPIST-1e Day-Night\n",
    "#Maximum GOE to CE\n",
    "((b_photon_PAR_ext/a_photons_PAR_ext)**(-1))*1.86*(0.4477975196269543)"
   ]
  },
  {
   "cell_type": "code",
   "execution_count": 238,
   "metadata": {},
   "outputs": [
    {
     "data": {
      "text/plain": [
       "26.870215025068617"
      ]
     },
     "execution_count": 238,
     "metadata": {},
     "output_type": "execute_result"
    }
   ],
   "source": [
    "#cyanobacteria at 4 mm depth Dobbs et al. 1999 on TRAPPIST-1e Tidal Lock\n",
    "#Maximum GOE to CE\n",
    "((b_photon_PAR_ext/a_photons_PAR_ext)**(-1))*1.86*(0.2827535773413341)"
   ]
  },
  {
   "cell_type": "code",
   "execution_count": 239,
   "metadata": {},
   "outputs": [
    {
     "data": {
      "text/plain": [
       "25.913545018955862"
      ]
     },
     "execution_count": 239,
     "metadata": {},
     "output_type": "execute_result"
    }
   ],
   "source": [
    "#cyanobacteria at 4 mm depth Dobbs et al. 1999 on TRAPPIST-1e Day Night\n",
    "#Maximum GOE to CE\n",
    "((b_photon_PAR_ext/a_photons_PAR_ext)**(-1))*1.86*(0.2726865992277919)"
   ]
  },
  {
   "cell_type": "code",
   "execution_count": 248,
   "metadata": {},
   "outputs": [
    {
     "data": {
      "text/plain": [
       "151.23134005079316"
      ]
     },
     "execution_count": 248,
     "metadata": {},
     "output_type": "execute_result"
    }
   ],
   "source": [
    "#Without photoinhibition\n",
    "#Maximum OP to CE\n",
    "((b_photon_PAR_ext/a_photons_PAR_ext)**(-1))*2.96"
   ]
  },
  {
   "cell_type": "code",
   "execution_count": 241,
   "metadata": {},
   "outputs": [
    {
     "data": {
      "text/plain": [
       "69.25604963074097"
      ]
     },
     "execution_count": 241,
     "metadata": {},
     "output_type": "execute_result"
    }
   ],
   "source": [
    "#cyanobacteria at surface Dobbs et al. 1999 on TRAPPIST-1e Tidal Lock\n",
    "#Maximum OP to CE\n",
    "((b_photon_PAR_ext/a_photons_PAR_ext)**(-1))*2.96*(0.45794773495679114)"
   ]
  },
  {
   "cell_type": "code",
   "execution_count": 242,
   "metadata": {},
   "outputs": [
    {
     "data": {
      "text/plain": [
       "67.72101896460565"
      ]
     },
     "execution_count": 242,
     "metadata": {},
     "output_type": "execute_result"
    }
   ],
   "source": [
    "#cyanobacteria at surface Dobbs et al. 1999 on TRAPPIST-1e Day Night\n",
    "#Maximum OP to CE\n",
    "((b_photon_PAR_ext/a_photons_PAR_ext)**(-1))*2.96*(0.4477975196269543)"
   ]
  },
  {
   "cell_type": "code",
   "execution_count": 243,
   "metadata": {},
   "outputs": [
    {
     "data": {
      "text/plain": [
       "42.76120240548554"
      ]
     },
     "execution_count": 243,
     "metadata": {},
     "output_type": "execute_result"
    }
   ],
   "source": [
    "#cyanobacteria at 4 mm depth Dobbs et al. 1999 on TRAPPIST-1e Tidal Lock\n",
    "#Maximum OP to CE\n",
    "((b_photon_PAR_ext/a_photons_PAR_ext)**(-1))*2.96*(0.2827535773413341)"
   ]
  },
  {
   "cell_type": "code",
   "execution_count": 244,
   "metadata": {},
   "outputs": [
    {
     "data": {
      "text/plain": [
       "41.23875981511255"
      ]
     },
     "execution_count": 244,
     "metadata": {},
     "output_type": "execute_result"
    }
   ],
   "source": [
    "#cyanobacteria at 4 mm depth Dobbs et al. 1999 on TRAPPIST-1e Day Night\n",
    "#Maximum OP to CE\n",
    "((b_photon_PAR_ext/a_photons_PAR_ext)**(-1))*2.96*(0.2726865992277919)"
   ]
  },
  {
   "cell_type": "markdown",
   "metadata": {},
   "source": [
    "## Temperature\n",
    "\n",
    "As life can grow and reproduce at temperatures as low as −15 °C and as high as 122 °C (McKay 2014). TRAPPIST-1 e has a calculated equilibrium temperature of 246.1 K based on a null albedo of 0 (Delrez et al. 2018). (Computer yourself what the TRAP-1e temperature is with the Earth albedo of 0.306. FYI, you did this for exoplanet course.) However, for a more realistic Earth-analog, we cannot assume the surface temperature is equivalent to that of a blackbody. Earth's equilibrium temperature is 255 K (ref), yet it is greenhouse gases that raise surface temperature to 288K providing a warm climate with habitable conditions (ref). \n",
    "\n",
    "However, a more recent paper that matches closely to the irradiation of TRAPPIST-1e (0.646 S_E), Durcot et al. 2020 has the equilibrium temperature at 249.7 ± 2.4 K.\n",
    "\n",
    "* Understand what is equilibrium planetary temperature. Why is Earth at 255 K (-18 C)?\n",
    "\n",
    "    **Using Lecture 24 & 25 from Astr 510 - Exoplanets course.\n",
    " \n",
    " $$T_{eq}=T_{*}\\sqrt{\\frac{R_{*}}{2a}}(f(1-A))^{1/4}$$\n",
    " \n",
    " \n",
    "'A' being the Bond albedo. Considering we assume TRAPPIST-1 e and is an Earth-analog planet with the same orbit as TRAPPIST-1 e, we will have A=0.306 (the Bond Albedo of Earth).\n",
    "\n",
    "Second version is f as the fraction of the energy re-distributed from the star-facing day hemisphere to the night side.\n",
    "\n",
    "\tf = 1/4 if the energy is fully advected to the night side and the radiation emitted from the planet is isotropic.\n",
    "\t\n",
    "\tf = 1/2 if the planet only emits from the day side. \n",
    "    \n",
    "    f = 1 for complete redistribution (isotropic, isothermal)\n",
    "    f = 2 for no redistribution (hot day, cold night) <- this is can be for synchrozied rotation (i.e. tidal lock)\n",
    "    "
   ]
  },
  {
   "cell_type": "code",
   "execution_count": 219,
   "metadata": {},
   "outputs": [
    {
     "data": {
      "text/plain": [
       "5.670374419e-08"
      ]
     },
     "execution_count": 219,
     "metadata": {},
     "output_type": "execute_result"
    }
   ],
   "source": [
    "sigma #W m^-2 K^-4, Stefan-Boltzmann constant"
   ]
  },
  {
   "cell_type": "code",
   "execution_count": 220,
   "metadata": {},
   "outputs": [],
   "source": [
    "L_sol = 3.828e26 #W ,solar luminosity\n",
    "L_TRAPPIST1 = 0.000525*L_sol\n",
    "au = 149597870700 #m, 1 AU from https://www.iau.org/static/resolutions/IAU2012_English.pdf\n",
    "a_TRAP1e = 0.02925*au\n",
    "R_sol = 6.957e8 #m, solar radius\n",
    "temp_sun = 5772 #K, effective temperature of Sun\n",
    "R_TRAP1 = 0.1192*R_sol\n",
    "temp_TRAP1 = 2566 #K"
   ]
  },
  {
   "cell_type": "code",
   "execution_count": 221,
   "metadata": {},
   "outputs": [
    {
     "data": {
      "text/plain": [
       "2.0097e+23"
      ]
     },
     "execution_count": 221,
     "metadata": {},
     "output_type": "execute_result"
    }
   ],
   "source": [
    "L_TRAPPIST1"
   ]
  },
  {
   "cell_type": "code",
   "execution_count": 222,
   "metadata": {},
   "outputs": [
    {
     "data": {
      "text/plain": [
       "-18.149999999999977"
      ]
     },
     "execution_count": 222,
     "metadata": {},
     "output_type": "execute_result"
    }
   ],
   "source": [
    "255 - 273.15"
   ]
  },
  {
   "cell_type": "code",
   "execution_count": 223,
   "metadata": {},
   "outputs": [
    {
     "data": {
      "text/plain": [
       "254.5857729432723"
      ]
     },
     "execution_count": 223,
     "metadata": {},
     "output_type": "execute_result"
    }
   ],
   "source": [
    "#Discuss Welsh with this\n",
    "def temp_eq_2(T_star, R_star, A, a, f):\n",
    "    s_q = np.sqrt(R_star/(2*a))\n",
    "    temp = (T_star)*(s_q)*(f*(1-A))**(1/4)\n",
    "    return temp\n",
    "\n",
    "temp_eq_2(temp_sun, R_sol, 0.3, au, 1)"
   ]
  },
  {
   "cell_type": "code",
   "execution_count": 224,
   "metadata": {},
   "outputs": [
    {
     "data": {
      "text/plain": [
       "249.7843027063586"
      ]
     },
     "execution_count": 224,
     "metadata": {},
     "output_type": "execute_result"
    }
   ],
   "source": [
    "temp_eq_2(temp_TRAP1, R_TRAP1, 0, a_TRAP1e, 1) # f= 1, A= 0"
   ]
  },
  {
   "cell_type": "code",
   "execution_count": 225,
   "metadata": {},
   "outputs": [
    {
     "data": {
      "text/plain": [
       "227.98433641312124"
      ]
     },
     "execution_count": 225,
     "metadata": {},
     "output_type": "execute_result"
    }
   ],
   "source": [
    "temp_eq_2(temp_TRAP1, R_TRAP1, 0.306, a_TRAP1e, 1)# f= 1, A= 0.306 #USE THIS FOR PAPER"
   ]
  },
  {
   "cell_type": "code",
   "execution_count": 230,
   "metadata": {},
   "outputs": [
    {
     "data": {
      "text/plain": [
       "260.98433641312124"
      ]
     },
     "execution_count": 230,
     "metadata": {},
     "output_type": "execute_result"
    }
   ],
   "source": [
    "temp_eq_2(temp_TRAP1, R_TRAP1, 0.306, a_TRAP1e, 1) + 33"
   ]
  },
  {
   "cell_type": "code",
   "execution_count": 231,
   "metadata": {},
   "outputs": [
    {
     "data": {
      "text/plain": [
       "-45.165663586878736"
      ]
     },
     "execution_count": 231,
     "metadata": {},
     "output_type": "execute_result"
    }
   ],
   "source": [
    "(temp_eq_2(temp_TRAP1, R_TRAP1, 0.306, a_TRAP1e, 1) - 273.15) #For Kelvin to Celsius"
   ]
  },
  {
   "cell_type": "code",
   "execution_count": 232,
   "metadata": {},
   "outputs": [
    {
     "data": {
      "text/plain": [
       "-12.165663586878736"
      ]
     },
     "execution_count": 232,
     "metadata": {},
     "output_type": "execute_result"
    }
   ],
   "source": [
    "(temp_eq_2(temp_TRAP1, R_TRAP1, 0.306, a_TRAP1e, 1) - 273.15) + 33"
   ]
  },
  {
   "cell_type": "code",
   "execution_count": 226,
   "metadata": {},
   "outputs": [
    {
     "data": {
      "text/plain": [
       "271.12059497165774"
      ]
     },
     "execution_count": 226,
     "metadata": {},
     "output_type": "execute_result"
    }
   ],
   "source": [
    "temp_eq_2(temp_TRAP1, R_TRAP1, 0.306, a_TRAP1e, 2) # f= 2, A= 0.306 #USE THIS FOR PAPER,  since your planet is tidal lock"
   ]
  },
  {
   "cell_type": "code",
   "execution_count": 227,
   "metadata": {},
   "outputs": [
    {
     "data": {
      "text/plain": [
       "304.12059497165774"
      ]
     },
     "execution_count": 227,
     "metadata": {},
     "output_type": "execute_result"
    }
   ],
   "source": [
    "temp_eq_2(temp_TRAP1, R_TRAP1, 0.306, a_TRAP1e, 2) +33"
   ]
  },
  {
   "cell_type": "code",
   "execution_count": 228,
   "metadata": {},
   "outputs": [
    {
     "data": {
      "text/plain": [
       "-2.0294050283422393"
      ]
     },
     "execution_count": 228,
     "metadata": {},
     "output_type": "execute_result"
    }
   ],
   "source": [
    "(temp_eq_2(temp_TRAP1, R_TRAP1, 0.306, a_TRAP1e, 2) - 273.15) #For Kelvin to Celsius"
   ]
  },
  {
   "cell_type": "code",
   "execution_count": 229,
   "metadata": {},
   "outputs": [
    {
     "data": {
      "text/plain": [
       "30.97059497165776"
      ]
     },
     "execution_count": 229,
     "metadata": {},
     "output_type": "execute_result"
    }
   ],
   "source": [
    "(temp_eq_2(temp_TRAP1, R_TRAP1, 0.306, a_TRAP1e, 2) - 273.15) + 33"
   ]
  },
  {
   "cell_type": "markdown",
   "metadata": {},
   "source": [
    "The correct Teq is between 227 to 271 K but considering TRAPPIST-1e is going to be tidal locked, then it's likely closer to 271 K. "
   ]
  },
  {
   "cell_type": "code",
   "execution_count": null,
   "metadata": {},
   "outputs": [],
   "source": []
  }
 ],
 "metadata": {
  "kernelspec": {
   "display_name": "Python 3",
   "language": "python",
   "name": "python3"
  },
  "language_info": {
   "codemirror_mode": {
    "name": "ipython",
    "version": 3
   },
   "file_extension": ".py",
   "mimetype": "text/x-python",
   "name": "python",
   "nbconvert_exporter": "python",
   "pygments_lexer": "ipython3",
   "version": "3.8.3"
  }
 },
 "nbformat": 4,
 "nbformat_minor": 4
}
